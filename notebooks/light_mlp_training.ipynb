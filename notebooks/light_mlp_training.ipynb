{
 "cells": [
  {
   "cell_type": "code",
   "execution_count": 1,
   "id": "3f7f5542",
   "metadata": {},
   "outputs": [
    {
     "name": "stderr",
     "output_type": "stream",
     "text": [
      "/home/dtetruash/.miniconda3/envs/thesis/lib/python3.10/site-packages/torchvision/io/image.py:13: UserWarning: Failed to load image Python extension: '/home/dtetruash/.miniconda3/envs/thesis/lib/python3.10/site-packages/torchvision/image.so: undefined symbol: _ZNK3c107SymBool10guard_boolEPKcl'If you don't plan on using image functionality from `torchvision.io`, you can ignore this warning. Otherwise, there might be something wrong with your environment. Did you have `libjpeg` or `libpng` installed before building `torchvision` from source?\n",
      "  warn(\n"
     ]
    },
    {
     "name": "stdout",
     "output_type": "stream",
     "text": [
      "Jupyter environment detected. Enabling Open3D WebVisualizer.\n",
      "[Open3D INFO] WebRTC GUI backend enabled.\n",
      "[Open3D INFO] WebRTCWindowSystem: HTTP handshake server disabled.\n"
     ]
    }
   ],
   "source": [
    "import torch\n",
    "import torchvision\n",
    "import torch.nn as nn\n",
    "import torch.nn.functional as F\n",
    "import numpy as np\n",
    "import wandb\n",
    "import math\n",
    "from tqdm import tqdm\n",
    "import os\n",
    "from model import LightMLP\n",
    "\n",
    "import raster_relight as rr\n",
    "import raster_dataloader as rd"
   ]
  },
  {
   "cell_type": "code",
   "execution_count": 2,
   "id": "129dc78c",
   "metadata": {},
   "outputs": [],
   "source": [
    "device = (\n",
    "    \"cuda\"\n",
    "    if torch.cuda.is_available()\n",
    "    else \"mps\"\n",
    "    if torch.backends.mps.is_available()\n",
    "    else \"cpu\"\n",
    ")"
   ]
  },
  {
   "cell_type": "code",
   "execution_count": 3,
   "id": "70845c40",
   "metadata": {},
   "outputs": [],
   "source": [
    "# Get the dataloader\n",
    "def get_dataloader(batch_size, split='train'):\n",
    "    is_train = split == 'train'\n",
    "    \"Get a dataloader for training or testing\"\n",
    "    full_dataset = rd.OLATDataset(split)  # uses a config to decide what to load.\n",
    "    loader = torch.utils.data.DataLoader(dataset=full_dataset,\n",
    "                                         batch_size=batch_size,\n",
    "                                         shuffle=is_train,\n",
    "                                         pin_memory=True, num_workers=0)\n",
    "    return loader"
   ]
  },
  {
   "cell_type": "code",
   "execution_count": 4,
   "id": "1002746c",
   "metadata": {},
   "outputs": [],
   "source": [
    "def validate_model(model, valid_dl, loss_func, log_images=False, batch_idx=0):\n",
    "    \"Compute performance of the model on the validation dataset and log a wandb.Table\"\n",
    "    model.eval()\n",
    "    val_loss = 0.\n",
    "    with torch.inference_mode():\n",
    "        correct = 0\n",
    "        for step, (feats, target_vector) in tqdm(enumerate(valid_dl),\n",
    "                                                 desc=\"Validating model\",\n",
    "                                                 total=len(valid_dl)):\n",
    "            feats, target_vector = feats.to(device), target_vector.to(device)\n",
    "\n",
    "            # Forward pass\n",
    "            inputs = torch.flatten(feats, start_dim=1)\n",
    "            outputs = model(inputs)  # should be (batch_len, 3)\n",
    "            val_loss += loss_func(outputs, target_vector)*target_vector.size(0)\n",
    "\n",
    "            break\n",
    "\n",
    "    return val_loss / len(valid_dl.dataset)"
   ]
  },
  {
   "cell_type": "code",
   "execution_count": 5,
   "id": "61a628a4",
   "metadata": {},
   "outputs": [],
   "source": [
    "def generate_validation_image(model, valid_dataset):\n",
    "    \"\"\"Generate an image comparing a ground truth image with one generated using the model.\n",
    "    model: MLP which outputs light direction vectors\"\"\"\n",
    "    with torch.inference_mode():\n",
    "        # Randomly choose which image from the validation set to reconstruct\n",
    "        image_number = np.random.randint(valid_dataset.num_frames)\n",
    "        # randomly choose a light in the scene\n",
    "        light_names = list(valid_dataset._lights_info.keys())\n",
    "        light_name = light_names[np.random.randint(valid_dataset._num_lights)]\n",
    "        print(f\"Generating OLAT validation image {image_number} with light {light_name}...\")\n",
    "\n",
    "        # load attributes of this validation image\n",
    "        W, H, gt_raster_pixels, world_normals, albedo, _, gt_light_vectors, occupancy_mask = valid_dataset.attributes[image_number][light_name]\n",
    "\n",
    "        gt_raster_pixels = gt_raster_pixels.astype(np.float32)\n",
    "        world_normals = world_normals.astype(np.float32)\n",
    "        albedo = albedo.astype(np.float32)\n",
    "        gt_light_vectors = gt_light_vectors.astype(np.float32)\n",
    "\n",
    "        # prepare inputs for inference\n",
    "        feats = np.stack([world_normals, albedo, gt_raster_pixels], axis=1)\n",
    "        inputs = torch.flatten(torch.as_tensor(feats).float(), start_dim=1)\n",
    "\n",
    "        # Do inference to get light vectors\n",
    "        light_vectors = model(inputs)\n",
    "        light_vectors = light_vectors.numpy().astype(np.float32)\n",
    "\n",
    "        # Construct a normals image\n",
    "        img_size = (W, H, 3)\n",
    "\n",
    "        # Light direciton images\n",
    "        val_light_dir_image = np.ones(img_size, dtype=np.float32)\n",
    "        val_light_dirs = 0.5*light_vectors + 0.5\n",
    "        val_light_dir_image[occupancy_mask] = val_light_dirs\n",
    "\n",
    "        gt_light_dir_image = np.ones(img_size, dtype=np.float32)\n",
    "        gt_light_colors = 0.5*gt_light_vectors + 0.5\n",
    "        gt_light_dir_image[occupancy_mask] = gt_light_colors\n",
    "\n",
    "        # Raster pixel images\n",
    "        val_raster_image = np.ones(img_size, dtype=np.float32)\n",
    "        val_raster_pixels, val_shading = rr.raster_from_directions(light_vectors, albedo, world_normals, return_shading=True)\n",
    "        val_raster_image[occupancy_mask] = val_raster_pixels\n",
    "\n",
    "        gt_raster_image = np.ones(img_size, dtype=np.float32)\n",
    "        gt_raster_image[occupancy_mask] = gt_raster_pixels\n",
    "\n",
    "        # Shading images\n",
    "        val_shading_image = np.ones(img_size, dtype=np.float32)\n",
    "        val_shading_image[occupancy_mask] = val_shading[..., np.newaxis]\n",
    "\n",
    "        gt_shading_image = np.ones(img_size, dtype=np.float32)\n",
    "        gt_shading = rr.compute_clipped_dot_prod(world_normals, gt_light_vectors)\n",
    "        gt_shading_image[occupancy_mask] = gt_shading[..., np.newaxis]\n",
    "\n",
    "        # Stick them together\n",
    "        validation_images = np.concatenate([val_raster_image, val_shading_image, val_light_dir_image], axis=1)\n",
    "\n",
    "        gt_images = np.concatenate([gt_raster_image, gt_shading_image, gt_light_dir_image], axis=1)\n",
    "\n",
    "        image_array = np.concatenate([validation_images, gt_images], axis=0)\n",
    "\n",
    "        image_caption = \"Top row : Inference. Bottom: GT.\\nLeft to right: Render, Shading, Light directions.\"\n",
    "\n",
    "        return image_array, image_caption"
   ]
  },
  {
   "cell_type": "code",
   "execution_count": 6,
   "id": "4c8069f1",
   "metadata": {},
   "outputs": [],
   "source": [
    "def train_epoch(epoch, train_dl, model, loss_func):\n",
    "    cumu_loss = 0.0\n",
    "    for step, (feats, target_vector) in tqdm(enumerate(train_dl),\n",
    "                                             total=len(train_dl),\n",
    "                                             desc=\"Step\",\n",
    "                                             position=1, leave=False, colour='red'):\n",
    "        # Move to device\n",
    "        feats, target_vector = feats.to(device), target_vector.to(device)\n",
    "\n",
    "        # Forward pass\n",
    "        inputs = torch.flatten(feats, start_dim=1)  # (batch_len, )\n",
    "        outputs = model(inputs)  # should be (batch_len, 3)\n",
    "        train_loss = loss_func(outputs, target_vector)\n",
    "        cumu_loss += train_loss.item()\n",
    "\n",
    "        # Optimization step\n",
    "        optimizer.zero_grad()\n",
    "        train_loss.backward()\n",
    "        optimizer.step()\n",
    "\n",
    "        # Collect metrics\n",
    "        metrics = {\"train/train_loss\": train_loss,\n",
    "                   \"train/epoch\": (step + 1 + (n_steps_per_epoch * epoch)) / n_steps_per_epoch,\n",
    "                   }\n",
    "\n",
    "        if step + 1 < n_steps_per_epoch:\n",
    "            # 🐝 Log train metrics to wandb\n",
    "            wandb.log(metrics)\n",
    "\n",
    "        break\n",
    "\n",
    "    return cumu_loss / len(train_dl)"
   ]
  },
  {
   "cell_type": "markdown",
   "id": "d7f9dd02",
   "metadata": {},
   "source": [
    "Loss functions!"
   ]
  },
  {
   "cell_type": "code",
   "execution_count": 7,
   "id": "c27d2b4c",
   "metadata": {
    "lines_to_next_cell": 1
   },
   "outputs": [],
   "source": [
    "cosine = nn.CosineSimilarity(dim=1, eps=1e-6)\n",
    "def cosine_similarity_loss_func(x, y, lamb=2.0):\n",
    "    cosine_similarity = cosine(x, y)\n",
    "    similarity_target = torch.tensor([1.0]).broadcast_to(cosine_similarity.size()).to(device)\n",
    "    similarity_term = F.mse_loss(cosine_similarity, similarity_target)\n",
    "\n",
    "    return similarity_term"
   ]
  },
  {
   "cell_type": "code",
   "execution_count": 8,
   "id": "9c55d403",
   "metadata": {},
   "outputs": [],
   "source": [
    "def unitarity_loss(x):\n",
    "    x_norms = torch.linalg.norm(x, dim=-1)\n",
    "    unitarity_term = F.mse_loss(x_norms,\n",
    "                                torch.tensor([1.0]).broadcast_to(x_norms.size()).to(device))\n",
    "\n",
    "    return unitarity_term"
   ]
  },
  {
   "cell_type": "code",
   "execution_count": 9,
   "id": "8c9f6f93",
   "metadata": {},
   "outputs": [],
   "source": [
    "def loss_func(x, y, lamb=2.0):\n",
    "    return cosine_similarity_loss_func(x, y) + lamb * unitarity_loss(x)"
   ]
  },
  {
   "cell_type": "code",
   "execution_count": 10,
   "id": "845c0446",
   "metadata": {},
   "outputs": [
    {
     "name": "stderr",
     "output_type": "stream",
     "text": [
      "Loading dataset from chair_intrinsic/train:   3%| | 4/140 [00:00<00:08, 16.86it/s]"
     ]
    },
    {
     "name": "stdout",
     "output_type": "stream",
     "text": [
      "In DL: image 0; light arealightfront: light_vectors (27974, 3)\n",
      "IN DL: light vec has norm of 1.0000000000000002\n",
      "In DL: image 0; light arealightup: light_vectors (27974, 3)\n",
      "IN DL: light vec has norm of 1.0000000000000002\n",
      "In DL: image 1; light arealightfront: light_vectors (39465, 3)\n",
      "IN DL: light vec has norm of 1.0000000000000002\n",
      "In DL: image 1; light arealightup: light_vectors (39465, 3)\n",
      "IN DL: light vec has norm of 1.0000000000000002\n",
      "In DL: image 2; light arealightfront: light_vectors (43551, 3)\n",
      "IN DL: light vec has norm of 1.0000000000000002\n",
      "In DL: image 2; light arealightup: light_vectors (43551, 3)\n",
      "IN DL: light vec has norm of 1.0000000000000002\n",
      "In DL: image 3; light arealightfront: light_vectors (41957, 3)\n",
      "IN DL: light vec has norm of 1.0000000000000002\n",
      "In DL: image 3; light arealightup: light_vectors (41957, 3)\n",
      "IN DL: light vec has norm of 1.0000000000000002\n"
     ]
    },
    {
     "name": "stderr",
     "output_type": "stream",
     "text": [
      "Loading dataset from chair_intrinsic/train:   6%| | 8/140 [00:00<00:07, 17.85it/s]"
     ]
    },
    {
     "name": "stdout",
     "output_type": "stream",
     "text": [
      "In DL: image 4; light arealightfront: light_vectors (39809, 3)\n",
      "IN DL: light vec has norm of 1.0000000000000002\n",
      "In DL: image 4; light arealightup: light_vectors (39809, 3)\n",
      "IN DL: light vec has norm of 1.0000000000000002\n",
      "In DL: image 5; light arealightfront: light_vectors (45912, 3)\n",
      "IN DL: light vec has norm of 1.0000000000000002\n",
      "In DL: image 5; light arealightup: light_vectors (45912, 3)\n",
      "IN DL: light vec has norm of 1.0000000000000002\n",
      "In DL: image 6; light arealightfront: light_vectors (32518, 3)\n",
      "IN DL: light vec has norm of 1.0000000000000002\n",
      "In DL: image 6; light arealightup: light_vectors (32518, 3)\n",
      "IN DL: light vec has norm of 1.0000000000000002\n",
      "In DL: image 7; light arealightfront: light_vectors (28619, 3)\n",
      "IN DL: light vec has norm of 1.0000000000000002\n",
      "In DL: image 7; light arealightup: light_vectors (28619, 3)\n",
      "IN DL: light vec has norm of 1.0000000000000002\n"
     ]
    },
    {
     "name": "stderr",
     "output_type": "stream",
     "text": [
      "Loading dataset from chair_intrinsic/train:   9%| | 12/140 [00:00<00:06, 18.64it/s"
     ]
    },
    {
     "name": "stdout",
     "output_type": "stream",
     "text": [
      "In DL: image 8; light arealightfront: light_vectors (37969, 3)\n",
      "IN DL: light vec has norm of 1.0000000000000002\n",
      "In DL: image 8; light arealightup: light_vectors (37969, 3)\n",
      "IN DL: light vec has norm of 1.0000000000000002\n",
      "In DL: image 9; light arealightfront: light_vectors (34538, 3)\n",
      "IN DL: light vec has norm of 1.0000000000000002\n",
      "In DL: image 9; light arealightup: light_vectors (34538, 3)\n",
      "IN DL: light vec has norm of 1.0000000000000002\n",
      "In DL: image 10; light arealightfront: light_vectors (41977, 3)\n",
      "IN DL: light vec has norm of 1.0000000000000002\n",
      "In DL: image 10; light arealightup: light_vectors (41977, 3)\n",
      "IN DL: light vec has norm of 1.0000000000000002\n",
      "In DL: image 11; light arealightfront: light_vectors (41348, 3)\n",
      "IN DL: light vec has norm of 1.0000000000000002\n",
      "In DL: image 11; light arealightup: light_vectors (41348, 3)\n",
      "IN DL: light vec has norm of 1.0000000000000002\n"
     ]
    },
    {
     "name": "stderr",
     "output_type": "stream",
     "text": [
      "Loading dataset from chair_intrinsic/train:  11%| | 16/140 [00:00<00:06, 18.74it/s"
     ]
    },
    {
     "name": "stdout",
     "output_type": "stream",
     "text": [
      "In DL: image 12; light arealightfront: light_vectors (46783, 3)\n",
      "IN DL: light vec has norm of 1.0000000000000002\n",
      "In DL: image 12; light arealightup: light_vectors (46783, 3)\n",
      "IN DL: light vec has norm of 1.0000000000000002\n",
      "In DL: image 13; light arealightfront: light_vectors (31269, 3)\n",
      "IN DL: light vec has norm of 1.0000000000000002\n",
      "In DL: image 13; light arealightup: light_vectors (31269, 3)\n",
      "IN DL: light vec has norm of 1.0000000000000002\n",
      "In DL: image 14; light arealightfront: light_vectors (37215, 3)\n",
      "IN DL: light vec has norm of 1.0000000000000002\n",
      "In DL: image 14; light arealightup: light_vectors (37215, 3)\n",
      "IN DL: light vec has norm of 1.0000000000000002\n",
      "In DL: image 15; light arealightfront: light_vectors (32377, 3)\n",
      "IN DL: light vec has norm of 1.0000000000000002\n",
      "In DL: image 15; light arealightup: light_vectors (32377, 3)\n",
      "IN DL: light vec has norm of 1.0000000000000002\n"
     ]
    },
    {
     "name": "stderr",
     "output_type": "stream",
     "text": [
      "Loading dataset from chair_intrinsic/train:  14%|▏| 20/140 [00:01<00:06, 18.25it/s"
     ]
    },
    {
     "name": "stdout",
     "output_type": "stream",
     "text": [
      "In DL: image 16; light arealightfront: light_vectors (35596, 3)\n",
      "IN DL: light vec has norm of 1.0000000000000002\n",
      "In DL: image 16; light arealightup: light_vectors (35596, 3)\n",
      "IN DL: light vec has norm of 1.0000000000000002\n",
      "In DL: image 17; light arealightfront: light_vectors (36662, 3)\n",
      "IN DL: light vec has norm of 1.0000000000000002\n",
      "In DL: image 17; light arealightup: light_vectors (36662, 3)\n",
      "IN DL: light vec has norm of 1.0000000000000002\n",
      "In DL: image 18; light arealightfront: light_vectors (46423, 3)\n",
      "IN DL: light vec has norm of 1.0000000000000002\n",
      "In DL: image 18; light arealightup: light_vectors (46423, 3)\n",
      "IN DL: light vec has norm of 1.0000000000000002\n",
      "In DL: image 19; light arealightfront: light_vectors (39681, 3)\n",
      "IN DL: light vec has norm of 1.0000000000000002\n",
      "In DL: image 19; light arealightup: light_vectors (39681, 3)\n",
      "IN DL: light vec has norm of 1.0000000000000002\n"
     ]
    },
    {
     "name": "stderr",
     "output_type": "stream",
     "text": [
      "Loading dataset from chair_intrinsic/train:  17%|▏| 24/140 [00:01<00:06, 18.05it/s"
     ]
    },
    {
     "name": "stdout",
     "output_type": "stream",
     "text": [
      "In DL: image 20; light arealightfront: light_vectors (35532, 3)\n",
      "IN DL: light vec has norm of 1.0000000000000002\n",
      "In DL: image 20; light arealightup: light_vectors (35532, 3)\n",
      "IN DL: light vec has norm of 1.0000000000000002\n",
      "In DL: image 21; light arealightfront: light_vectors (34970, 3)\n",
      "IN DL: light vec has norm of 1.0000000000000002\n",
      "In DL: image 21; light arealightup: light_vectors (34970, 3)\n",
      "IN DL: light vec has norm of 1.0000000000000002\n",
      "In DL: image 22; light arealightfront: light_vectors (38031, 3)\n",
      "IN DL: light vec has norm of 1.0000000000000002\n",
      "In DL: image 22; light arealightup: light_vectors (38031, 3)\n",
      "IN DL: light vec has norm of 1.0000000000000002\n",
      "In DL: image 23; light arealightfront: light_vectors (37751, 3)\n",
      "IN DL: light vec has norm of 1.0000000000000002\n",
      "In DL: image 23; light arealightup: light_vectors (37751, 3)\n",
      "IN DL: light vec has norm of 1.0000000000000002\n"
     ]
    },
    {
     "name": "stderr",
     "output_type": "stream",
     "text": [
      "Loading dataset from chair_intrinsic/train:  20%|▏| 28/140 [00:01<00:06, 18.21it/s"
     ]
    },
    {
     "name": "stdout",
     "output_type": "stream",
     "text": [
      "In DL: image 24; light arealightfront: light_vectors (41802, 3)\n",
      "IN DL: light vec has norm of 1.0000000000000002\n",
      "In DL: image 24; light arealightup: light_vectors (41802, 3)\n",
      "IN DL: light vec has norm of 1.0000000000000002\n",
      "In DL: image 25; light arealightfront: light_vectors (37137, 3)\n",
      "IN DL: light vec has norm of 1.0000000000000002\n",
      "In DL: image 25; light arealightup: light_vectors (37137, 3)\n",
      "IN DL: light vec has norm of 1.0000000000000002\n",
      "In DL: image 26; light arealightfront: light_vectors (37788, 3)\n",
      "IN DL: light vec has norm of 1.0000000000000002\n",
      "In DL: image 26; light arealightup: light_vectors (37788, 3)\n",
      "IN DL: light vec has norm of 1.0000000000000002\n",
      "In DL: image 27; light arealightfront: light_vectors (46405, 3)\n",
      "IN DL: light vec has norm of 1.0000000000000002\n",
      "In DL: image 27; light arealightup: light_vectors (46405, 3)\n",
      "IN DL: light vec has norm of 1.0000000000000002\n"
     ]
    },
    {
     "name": "stderr",
     "output_type": "stream",
     "text": [
      "Loading dataset from chair_intrinsic/train:  23%|▏| 32/140 [00:01<00:05, 18.65it/s"
     ]
    },
    {
     "name": "stdout",
     "output_type": "stream",
     "text": [
      "In DL: image 28; light arealightfront: light_vectors (26649, 3)\n",
      "IN DL: light vec has norm of 1.0000000000000002\n",
      "In DL: image 28; light arealightup: light_vectors (26649, 3)\n",
      "IN DL: light vec has norm of 1.0000000000000002\n",
      "In DL: image 29; light arealightfront: light_vectors (42750, 3)\n",
      "IN DL: light vec has norm of 1.0000000000000002\n",
      "In DL: image 29; light arealightup: light_vectors (42750, 3)\n",
      "IN DL: light vec has norm of 1.0000000000000002\n",
      "In DL: image 30; light arealightfront: light_vectors (46252, 3)\n",
      "IN DL: light vec has norm of 1.0000000000000002\n",
      "In DL: image 30; light arealightup: light_vectors (46252, 3)\n",
      "IN DL: light vec has norm of 1.0000000000000002\n",
      "In DL: image 31; light arealightfront: light_vectors (33506, 3)\n",
      "IN DL: light vec has norm of 1.0000000000000002\n",
      "In DL: image 31; light arealightup: light_vectors (33506, 3)\n",
      "IN DL: light vec has norm of 1.0000000000000002\n"
     ]
    },
    {
     "name": "stderr",
     "output_type": "stream",
     "text": [
      "Loading dataset from chair_intrinsic/train:  26%|▎| 36/140 [00:01<00:05, 18.67it/s"
     ]
    },
    {
     "name": "stdout",
     "output_type": "stream",
     "text": [
      "In DL: image 32; light arealightfront: light_vectors (34020, 3)\n",
      "IN DL: light vec has norm of 1.0000000000000002\n",
      "In DL: image 32; light arealightup: light_vectors (34020, 3)\n",
      "IN DL: light vec has norm of 1.0000000000000002\n",
      "In DL: image 33; light arealightfront: light_vectors (39871, 3)\n",
      "IN DL: light vec has norm of 1.0000000000000002\n",
      "In DL: image 33; light arealightup: light_vectors (39871, 3)\n",
      "IN DL: light vec has norm of 1.0000000000000002\n",
      "In DL: image 34; light arealightfront: light_vectors (39948, 3)\n",
      "IN DL: light vec has norm of 1.0000000000000002\n",
      "In DL: image 34; light arealightup: light_vectors (39948, 3)\n",
      "IN DL: light vec has norm of 1.0000000000000002\n",
      "In DL: image 35; light arealightfront: light_vectors (33105, 3)\n",
      "IN DL: light vec has norm of 1.0000000000000002\n",
      "In DL: image 35; light arealightup: light_vectors (33105, 3)\n",
      "IN DL: light vec has norm of 1.0000000000000002\n"
     ]
    },
    {
     "name": "stderr",
     "output_type": "stream",
     "text": [
      "Loading dataset from chair_intrinsic/train:  29%|▎| 40/140 [00:02<00:05, 18.56it/s"
     ]
    },
    {
     "name": "stdout",
     "output_type": "stream",
     "text": [
      "In DL: image 36; light arealightfront: light_vectors (46738, 3)\n",
      "IN DL: light vec has norm of 1.0000000000000002\n",
      "In DL: image 36; light arealightup: light_vectors (46738, 3)\n",
      "IN DL: light vec has norm of 1.0000000000000002\n",
      "In DL: image 37; light arealightfront: light_vectors (46789, 3)\n",
      "IN DL: light vec has norm of 1.0000000000000002\n",
      "In DL: image 37; light arealightup: light_vectors (46789, 3)\n",
      "IN DL: light vec has norm of 1.0000000000000002\n",
      "In DL: image 38; light arealightfront: light_vectors (25821, 3)\n",
      "IN DL: light vec has norm of 1.0000000000000002\n",
      "In DL: image 38; light arealightup: light_vectors (25821, 3)\n",
      "IN DL: light vec has norm of 1.0000000000000002\n",
      "In DL: image 39; light arealightfront: light_vectors (42605, 3)\n",
      "IN DL: light vec has norm of 1.0000000000000002\n",
      "In DL: image 39; light arealightup: light_vectors (42605, 3)\n",
      "IN DL: light vec has norm of 1.0000000000000002\n"
     ]
    },
    {
     "name": "stderr",
     "output_type": "stream",
     "text": [
      "Loading dataset from chair_intrinsic/train:  31%|▎| 44/140 [00:02<00:05, 19.06it/s"
     ]
    },
    {
     "name": "stdout",
     "output_type": "stream",
     "text": [
      "In DL: image 40; light arealightfront: light_vectors (40148, 3)\n",
      "IN DL: light vec has norm of 1.0000000000000002\n",
      "In DL: image 40; light arealightup: light_vectors (40148, 3)\n",
      "IN DL: light vec has norm of 1.0000000000000002\n",
      "In DL: image 41; light arealightfront: light_vectors (36414, 3)\n",
      "IN DL: light vec has norm of 1.0000000000000002\n",
      "In DL: image 41; light arealightup: light_vectors (36414, 3)\n",
      "IN DL: light vec has norm of 1.0000000000000002\n",
      "In DL: image 42; light arealightfront: light_vectors (35713, 3)\n",
      "IN DL: light vec has norm of 1.0000000000000002\n",
      "In DL: image 42; light arealightup: light_vectors (35713, 3)\n",
      "IN DL: light vec has norm of 1.0000000000000002\n",
      "In DL: image 43; light arealightfront: light_vectors (38665, 3)\n",
      "IN DL: light vec has norm of 1.0000000000000002\n",
      "In DL: image 43; light arealightup: light_vectors (38665, 3)\n",
      "IN DL: light vec has norm of 1.0000000000000002\n"
     ]
    },
    {
     "name": "stderr",
     "output_type": "stream",
     "text": [
      "Loading dataset from chair_intrinsic/train:  34%|▎| 48/140 [00:02<00:04, 18.72it/s"
     ]
    },
    {
     "name": "stdout",
     "output_type": "stream",
     "text": [
      "In DL: image 44; light arealightfront: light_vectors (37575, 3)\n",
      "IN DL: light vec has norm of 1.0000000000000002\n",
      "In DL: image 44; light arealightup: light_vectors (37575, 3)\n",
      "IN DL: light vec has norm of 1.0000000000000002\n",
      "In DL: image 45; light arealightfront: light_vectors (37543, 3)\n",
      "IN DL: light vec has norm of 1.0000000000000002\n",
      "In DL: image 45; light arealightup: light_vectors (37543, 3)\n",
      "IN DL: light vec has norm of 1.0000000000000002\n",
      "In DL: image 46; light arealightfront: light_vectors (38402, 3)\n",
      "IN DL: light vec has norm of 1.0000000000000002\n",
      "In DL: image 46; light arealightup: light_vectors (38402, 3)\n",
      "IN DL: light vec has norm of 1.0000000000000002\n",
      "In DL: image 47; light arealightfront: light_vectors (39225, 3)\n",
      "IN DL: light vec has norm of 1.0000000000000002\n",
      "In DL: image 47; light arealightup: light_vectors (39225, 3)\n",
      "IN DL: light vec has norm of 1.0000000000000002\n"
     ]
    },
    {
     "name": "stderr",
     "output_type": "stream",
     "text": [
      "Loading dataset from chair_intrinsic/train:  37%|▎| 52/140 [00:02<00:04, 18.38it/s"
     ]
    },
    {
     "name": "stdout",
     "output_type": "stream",
     "text": [
      "In DL: image 48; light arealightfront: light_vectors (55630, 3)\n",
      "IN DL: light vec has norm of 1.0000000000000002\n",
      "In DL: image 48; light arealightup: light_vectors (55630, 3)\n",
      "IN DL: light vec has norm of 1.0000000000000002\n",
      "In DL: image 49; light arealightfront: light_vectors (35541, 3)\n",
      "IN DL: light vec has norm of 1.0000000000000002\n",
      "In DL: image 49; light arealightup: light_vectors (35541, 3)\n",
      "IN DL: light vec has norm of 1.0000000000000002\n",
      "In DL: image 50; light arealightfront: light_vectors (47212, 3)\n",
      "IN DL: light vec has norm of 1.0000000000000002\n",
      "In DL: image 50; light arealightup: light_vectors (47212, 3)\n",
      "IN DL: light vec has norm of 1.0000000000000002\n",
      "In DL: image 51; light arealightfront: light_vectors (37248, 3)\n",
      "IN DL: light vec has norm of 1.0000000000000002\n",
      "In DL: image 51; light arealightup: light_vectors (37248, 3)\n",
      "IN DL: light vec has norm of 1.0000000000000002\n"
     ]
    },
    {
     "name": "stderr",
     "output_type": "stream",
     "text": [
      "Loading dataset from chair_intrinsic/train:  40%|▍| 56/140 [00:03<00:04, 18.77it/s"
     ]
    },
    {
     "name": "stdout",
     "output_type": "stream",
     "text": [
      "In DL: image 52; light arealightfront: light_vectors (46842, 3)\n",
      "IN DL: light vec has norm of 1.0000000000000002\n",
      "In DL: image 52; light arealightup: light_vectors (46842, 3)\n",
      "IN DL: light vec has norm of 1.0000000000000002\n",
      "In DL: image 53; light arealightfront: light_vectors (26626, 3)\n",
      "IN DL: light vec has norm of 1.0000000000000002\n",
      "In DL: image 53; light arealightup: light_vectors (26626, 3)\n",
      "IN DL: light vec has norm of 1.0000000000000002\n",
      "In DL: image 54; light arealightfront: light_vectors (45682, 3)\n",
      "IN DL: light vec has norm of 1.0000000000000002\n",
      "In DL: image 54; light arealightup: light_vectors (45682, 3)\n",
      "IN DL: light vec has norm of 1.0000000000000002\n",
      "In DL: image 55; light arealightfront: light_vectors (41267, 3)\n",
      "IN DL: light vec has norm of 1.0000000000000002\n",
      "In DL: image 55; light arealightup: light_vectors (41267, 3)\n",
      "IN DL: light vec has norm of 1.0000000000000002\n"
     ]
    },
    {
     "name": "stderr",
     "output_type": "stream",
     "text": [
      "Loading dataset from chair_intrinsic/train:  43%|▍| 60/140 [00:03<00:04, 19.14it/s"
     ]
    },
    {
     "name": "stdout",
     "output_type": "stream",
     "text": [
      "In DL: image 56; light arealightfront: light_vectors (39554, 3)\n",
      "IN DL: light vec has norm of 1.0000000000000002\n",
      "In DL: image 56; light arealightup: light_vectors (39554, 3)\n",
      "IN DL: light vec has norm of 1.0000000000000002\n",
      "In DL: image 57; light arealightfront: light_vectors (28526, 3)\n",
      "IN DL: light vec has norm of 1.0000000000000002\n",
      "In DL: image 57; light arealightup: light_vectors (28526, 3)\n",
      "IN DL: light vec has norm of 1.0000000000000002\n",
      "In DL: image 58; light arealightfront: light_vectors (35698, 3)\n",
      "IN DL: light vec has norm of 1.0000000000000002\n",
      "In DL: image 58; light arealightup: light_vectors (35698, 3)\n",
      "IN DL: light vec has norm of 1.0000000000000002\n",
      "In DL: image 59; light arealightfront: light_vectors (38682, 3)\n",
      "IN DL: light vec has norm of 1.0000000000000002\n",
      "In DL: image 59; light arealightup: light_vectors (38682, 3)\n",
      "IN DL: light vec has norm of 1.0000000000000002\n"
     ]
    },
    {
     "name": "stderr",
     "output_type": "stream",
     "text": [
      "Loading dataset from chair_intrinsic/train:  46%|▍| 64/140 [00:03<00:04, 18.35it/s"
     ]
    },
    {
     "name": "stdout",
     "output_type": "stream",
     "text": [
      "In DL: image 60; light arealightfront: light_vectors (38691, 3)\n",
      "IN DL: light vec has norm of 1.0000000000000002\n",
      "In DL: image 60; light arealightup: light_vectors (38691, 3)\n",
      "IN DL: light vec has norm of 1.0000000000000002\n",
      "In DL: image 61; light arealightfront: light_vectors (40960, 3)\n",
      "IN DL: light vec has norm of 1.0000000000000002\n",
      "In DL: image 61; light arealightup: light_vectors (40960, 3)\n",
      "IN DL: light vec has norm of 1.0000000000000002\n",
      "In DL: image 62; light arealightfront: light_vectors (46376, 3)\n",
      "IN DL: light vec has norm of 1.0000000000000002\n",
      "In DL: image 62; light arealightup: light_vectors (46376, 3)\n",
      "IN DL: light vec has norm of 1.0000000000000002\n",
      "In DL: image 63; light arealightfront: light_vectors (30849, 3)\n",
      "IN DL: light vec has norm of 1.0000000000000002\n",
      "In DL: image 63; light arealightup: light_vectors (30849, 3)\n",
      "IN DL: light vec has norm of 1.0000000000000002\n"
     ]
    },
    {
     "name": "stderr",
     "output_type": "stream",
     "text": [
      "Loading dataset from chair_intrinsic/train:  49%|▍| 68/140 [00:03<00:03, 18.19it/s"
     ]
    },
    {
     "name": "stdout",
     "output_type": "stream",
     "text": [
      "In DL: image 64; light arealightfront: light_vectors (40829, 3)\n",
      "IN DL: light vec has norm of 1.0000000000000002\n",
      "In DL: image 64; light arealightup: light_vectors (40829, 3)\n",
      "IN DL: light vec has norm of 1.0000000000000002\n",
      "In DL: image 65; light arealightfront: light_vectors (39749, 3)\n",
      "IN DL: light vec has norm of 1.0000000000000002\n",
      "In DL: image 65; light arealightup: light_vectors (39749, 3)\n",
      "IN DL: light vec has norm of 1.0000000000000002\n",
      "In DL: image 66; light arealightfront: light_vectors (28504, 3)\n",
      "IN DL: light vec has norm of 1.0000000000000002\n",
      "In DL: image 66; light arealightup: light_vectors (28504, 3)\n",
      "IN DL: light vec has norm of 1.0000000000000002\n",
      "In DL: image 67; light arealightfront: light_vectors (46070, 3)\n",
      "IN DL: light vec has norm of 1.0000000000000002\n",
      "In DL: image 67; light arealightup: light_vectors (46070, 3)\n",
      "IN DL: light vec has norm of 1.0000000000000002\n"
     ]
    },
    {
     "name": "stderr",
     "output_type": "stream",
     "text": [
      "Loading dataset from chair_intrinsic/train:  51%|▌| 72/140 [00:03<00:03, 18.05it/s"
     ]
    },
    {
     "name": "stdout",
     "output_type": "stream",
     "text": [
      "In DL: image 68; light arealightfront: light_vectors (30968, 3)\n",
      "IN DL: light vec has norm of 1.0000000000000002\n",
      "In DL: image 68; light arealightup: light_vectors (30968, 3)\n",
      "IN DL: light vec has norm of 1.0000000000000002\n",
      "In DL: image 69; light arealightfront: light_vectors (30288, 3)\n",
      "IN DL: light vec has norm of 1.0000000000000002\n",
      "In DL: image 69; light arealightup: light_vectors (30288, 3)\n",
      "IN DL: light vec has norm of 1.0000000000000002\n",
      "In DL: image 70; light arealightfront: light_vectors (34034, 3)\n",
      "IN DL: light vec has norm of 1.0000000000000002\n",
      "In DL: image 70; light arealightup: light_vectors (34034, 3)\n",
      "IN DL: light vec has norm of 1.0000000000000002\n",
      "In DL: image 71; light arealightfront: light_vectors (41887, 3)\n",
      "IN DL: light vec has norm of 1.0000000000000002\n",
      "In DL: image 71; light arealightup: light_vectors (41887, 3)\n",
      "IN DL: light vec has norm of 1.0000000000000002\n"
     ]
    },
    {
     "name": "stderr",
     "output_type": "stream",
     "text": [
      "Loading dataset from chair_intrinsic/train:  54%|▌| 76/140 [00:04<00:03, 18.13it/s"
     ]
    },
    {
     "name": "stdout",
     "output_type": "stream",
     "text": [
      "In DL: image 72; light arealightfront: light_vectors (41095, 3)\n",
      "IN DL: light vec has norm of 1.0000000000000002\n",
      "In DL: image 72; light arealightup: light_vectors (41095, 3)\n",
      "IN DL: light vec has norm of 1.0000000000000002\n",
      "In DL: image 73; light arealightfront: light_vectors (36562, 3)\n",
      "IN DL: light vec has norm of 1.0000000000000002\n",
      "In DL: image 73; light arealightup: light_vectors (36562, 3)\n",
      "IN DL: light vec has norm of 1.0000000000000002\n",
      "In DL: image 74; light arealightfront: light_vectors (46136, 3)\n",
      "IN DL: light vec has norm of 1.0000000000000002\n",
      "In DL: image 74; light arealightup: light_vectors (46136, 3)\n",
      "IN DL: light vec has norm of 1.0000000000000002\n",
      "In DL: image 75; light arealightfront: light_vectors (43792, 3)\n",
      "IN DL: light vec has norm of 1.0000000000000002\n",
      "In DL: image 75; light arealightup: light_vectors (43792, 3)\n",
      "IN DL: light vec has norm of 1.0000000000000002\n"
     ]
    },
    {
     "name": "stderr",
     "output_type": "stream",
     "text": [
      "Loading dataset from chair_intrinsic/train:  57%|▌| 80/140 [00:04<00:03, 18.20it/s"
     ]
    },
    {
     "name": "stdout",
     "output_type": "stream",
     "text": [
      "In DL: image 76; light arealightfront: light_vectors (35021, 3)\n",
      "IN DL: light vec has norm of 1.0000000000000002\n",
      "In DL: image 76; light arealightup: light_vectors (35021, 3)\n",
      "IN DL: light vec has norm of 1.0000000000000002\n",
      "In DL: image 77; light arealightfront: light_vectors (39672, 3)\n",
      "IN DL: light vec has norm of 1.0000000000000002\n",
      "In DL: image 77; light arealightup: light_vectors (39672, 3)\n",
      "IN DL: light vec has norm of 1.0000000000000002\n",
      "In DL: image 78; light arealightfront: light_vectors (27688, 3)\n",
      "IN DL: light vec has norm of 1.0000000000000002\n",
      "In DL: image 78; light arealightup: light_vectors (27688, 3)\n",
      "IN DL: light vec has norm of 1.0000000000000002\n",
      "In DL: image 79; light arealightfront: light_vectors (46719, 3)\n",
      "IN DL: light vec has norm of 1.0000000000000002\n",
      "In DL: image 79; light arealightup: light_vectors (46719, 3)\n",
      "IN DL: light vec has norm of 1.0000000000000002\n"
     ]
    },
    {
     "name": "stderr",
     "output_type": "stream",
     "text": [
      "Loading dataset from chair_intrinsic/train:  60%|▌| 84/140 [00:04<00:03, 17.99it/s"
     ]
    },
    {
     "name": "stdout",
     "output_type": "stream",
     "text": [
      "In DL: image 80; light arealightfront: light_vectors (41759, 3)\n",
      "IN DL: light vec has norm of 1.0000000000000002\n",
      "In DL: image 80; light arealightup: light_vectors (41759, 3)\n",
      "IN DL: light vec has norm of 1.0000000000000002\n",
      "In DL: image 81; light arealightfront: light_vectors (38601, 3)\n",
      "IN DL: light vec has norm of 1.0000000000000002\n",
      "In DL: image 81; light arealightup: light_vectors (38601, 3)\n",
      "IN DL: light vec has norm of 1.0000000000000002\n",
      "In DL: image 82; light arealightfront: light_vectors (44022, 3)\n",
      "IN DL: light vec has norm of 1.0000000000000002\n",
      "In DL: image 82; light arealightup: light_vectors (44022, 3)\n",
      "IN DL: light vec has norm of 1.0000000000000002\n",
      "In DL: image 83; light arealightfront: light_vectors (38698, 3)\n",
      "IN DL: light vec has norm of 1.0000000000000002\n",
      "In DL: image 83; light arealightup: light_vectors (38698, 3)\n",
      "IN DL: light vec has norm of 1.0000000000000002\n"
     ]
    },
    {
     "name": "stderr",
     "output_type": "stream",
     "text": [
      "Loading dataset from chair_intrinsic/train:  63%|▋| 88/140 [00:04<00:02, 17.84it/s"
     ]
    },
    {
     "name": "stdout",
     "output_type": "stream",
     "text": [
      "In DL: image 84; light arealightfront: light_vectors (45405, 3)\n",
      "IN DL: light vec has norm of 1.0000000000000002\n",
      "In DL: image 84; light arealightup: light_vectors (45405, 3)\n",
      "IN DL: light vec has norm of 1.0000000000000002\n",
      "In DL: image 85; light arealightfront: light_vectors (35744, 3)\n",
      "IN DL: light vec has norm of 1.0000000000000002\n",
      "In DL: image 85; light arealightup: light_vectors (35744, 3)\n",
      "IN DL: light vec has norm of 1.0000000000000002\n",
      "In DL: image 86; light arealightfront: light_vectors (44826, 3)\n",
      "IN DL: light vec has norm of 1.0000000000000002\n",
      "In DL: image 86; light arealightup: light_vectors (44826, 3)\n",
      "IN DL: light vec has norm of 1.0000000000000002\n",
      "In DL: image 87; light arealightfront: light_vectors (40560, 3)\n",
      "IN DL: light vec has norm of 1.0000000000000002\n",
      "In DL: image 87; light arealightup: light_vectors (40560, 3)\n",
      "IN DL: light vec has norm of 1.0000000000000002\n"
     ]
    },
    {
     "name": "stderr",
     "output_type": "stream",
     "text": [
      "Loading dataset from chair_intrinsic/train:  66%|▋| 92/140 [00:05<00:02, 17.78it/s"
     ]
    },
    {
     "name": "stdout",
     "output_type": "stream",
     "text": [
      "In DL: image 88; light arealightfront: light_vectors (32504, 3)\n",
      "IN DL: light vec has norm of 1.0000000000000002\n",
      "In DL: image 88; light arealightup: light_vectors (32504, 3)\n",
      "IN DL: light vec has norm of 1.0000000000000002\n",
      "In DL: image 89; light arealightfront: light_vectors (43634, 3)\n",
      "IN DL: light vec has norm of 1.0000000000000002\n",
      "In DL: image 89; light arealightup: light_vectors (43634, 3)\n",
      "IN DL: light vec has norm of 1.0000000000000002\n",
      "In DL: image 90; light arealightfront: light_vectors (35901, 3)\n",
      "IN DL: light vec has norm of 1.0000000000000002\n",
      "In DL: image 90; light arealightup: light_vectors (35901, 3)\n",
      "IN DL: light vec has norm of 1.0000000000000002\n",
      "In DL: image 91; light arealightfront: light_vectors (38365, 3)\n",
      "IN DL: light vec has norm of 1.0000000000000002\n",
      "In DL: image 91; light arealightup: light_vectors (38365, 3)\n",
      "IN DL: light vec has norm of 1.0000000000000002\n"
     ]
    },
    {
     "name": "stderr",
     "output_type": "stream",
     "text": [
      "Loading dataset from chair_intrinsic/train:  69%|▋| 96/140 [00:05<00:02, 18.15it/s"
     ]
    },
    {
     "name": "stdout",
     "output_type": "stream",
     "text": [
      "In DL: image 92; light arealightfront: light_vectors (35498, 3)\n",
      "IN DL: light vec has norm of 1.0000000000000002\n",
      "In DL: image 92; light arealightup: light_vectors (35498, 3)\n",
      "IN DL: light vec has norm of 1.0000000000000002\n",
      "In DL: image 93; light arealightfront: light_vectors (43614, 3)\n",
      "IN DL: light vec has norm of 1.0000000000000002\n",
      "In DL: image 93; light arealightup: light_vectors (43614, 3)\n",
      "IN DL: light vec has norm of 1.0000000000000002\n",
      "In DL: image 94; light arealightfront: light_vectors (29290, 3)\n",
      "IN DL: light vec has norm of 1.0000000000000002\n",
      "In DL: image 94; light arealightup: light_vectors (29290, 3)\n",
      "IN DL: light vec has norm of 1.0000000000000002\n",
      "In DL: image 95; light arealightfront: light_vectors (41384, 3)\n",
      "IN DL: light vec has norm of 1.0000000000000002\n",
      "In DL: image 95; light arealightup: light_vectors (41384, 3)\n",
      "IN DL: light vec has norm of 1.0000000000000002\n"
     ]
    },
    {
     "name": "stderr",
     "output_type": "stream",
     "text": [
      "Loading dataset from chair_intrinsic/train:  71%|▋| 100/140 [00:05<00:02, 18.52it/"
     ]
    },
    {
     "name": "stdout",
     "output_type": "stream",
     "text": [
      "In DL: image 96; light arealightfront: light_vectors (37772, 3)\n",
      "IN DL: light vec has norm of 1.0000000000000002\n",
      "In DL: image 96; light arealightup: light_vectors (37772, 3)\n",
      "IN DL: light vec has norm of 1.0000000000000002\n",
      "In DL: image 97; light arealightfront: light_vectors (32975, 3)\n",
      "IN DL: light vec has norm of 1.0000000000000002\n",
      "In DL: image 97; light arealightup: light_vectors (32975, 3)\n",
      "IN DL: light vec has norm of 1.0000000000000002\n",
      "In DL: image 98; light arealightfront: light_vectors (46712, 3)\n",
      "IN DL: light vec has norm of 1.0000000000000002\n",
      "In DL: image 98; light arealightup: light_vectors (46712, 3)\n",
      "IN DL: light vec has norm of 1.0000000000000002\n",
      "In DL: image 99; light arealightfront: light_vectors (33964, 3)\n",
      "IN DL: light vec has norm of 1.0000000000000002\n",
      "In DL: image 99; light arealightup: light_vectors (33964, 3)\n",
      "IN DL: light vec has norm of 1.0000000000000002\n"
     ]
    },
    {
     "name": "stderr",
     "output_type": "stream",
     "text": [
      "Loading dataset from chair_intrinsic/train:  75%|▊| 105/140 [00:05<00:01, 19.65it/"
     ]
    },
    {
     "name": "stdout",
     "output_type": "stream",
     "text": [
      "In DL: image 100; light arealightfront: light_vectors (29069, 3)\n",
      "IN DL: light vec has norm of 1.0000000000000002\n",
      "In DL: image 100; light arealightup: light_vectors (29069, 3)\n",
      "IN DL: light vec has norm of 1.0000000000000002\n",
      "In DL: image 101; light arealightfront: light_vectors (26495, 3)\n",
      "IN DL: light vec has norm of 1.0000000000000002\n",
      "In DL: image 101; light arealightup: light_vectors (26495, 3)\n",
      "IN DL: light vec has norm of 1.0000000000000002\n",
      "In DL: image 102; light arealightfront: light_vectors (24474, 3)\n",
      "IN DL: light vec has norm of 1.0000000000000002\n",
      "In DL: image 102; light arealightup: light_vectors (24474, 3)\n",
      "IN DL: light vec has norm of 1.0000000000000002\n",
      "In DL: image 103; light arealightfront: light_vectors (31353, 3)\n",
      "IN DL: light vec has norm of 1.0000000000000002\n",
      "In DL: image 103; light arealightup: light_vectors (31353, 3)\n",
      "IN DL: light vec has norm of 1.0000000000000002\n",
      "In DL: image 104; light arealightfront: light_vectors (21678, 3)\n",
      "IN DL: light vec has norm of 1.0000000000000002\n",
      "In DL: image 104; light arealightup: light_vectors (21678, 3)\n",
      "IN DL: light vec has norm of 1.0000000000000002\n"
     ]
    },
    {
     "name": "stderr",
     "output_type": "stream",
     "text": [
      "Loading dataset from chair_intrinsic/train:  78%|▊| 109/140 [00:05<00:01, 19.47it/"
     ]
    },
    {
     "name": "stdout",
     "output_type": "stream",
     "text": [
      "In DL: image 105; light arealightfront: light_vectors (43497, 3)\n",
      "IN DL: light vec has norm of 1.0000000000000002\n",
      "In DL: image 105; light arealightup: light_vectors (43497, 3)\n",
      "IN DL: light vec has norm of 1.0000000000000002\n",
      "In DL: image 106; light arealightfront: light_vectors (26927, 3)\n",
      "IN DL: light vec has norm of 1.0000000000000002\n",
      "In DL: image 106; light arealightup: light_vectors (26927, 3)\n",
      "IN DL: light vec has norm of 1.0000000000000002\n",
      "In DL: image 107; light arealightfront: light_vectors (29982, 3)\n",
      "IN DL: light vec has norm of 1.0000000000000002\n",
      "In DL: image 107; light arealightup: light_vectors (29982, 3)\n",
      "IN DL: light vec has norm of 1.0000000000000002\n",
      "In DL: image 108; light arealightfront: light_vectors (37189, 3)\n",
      "IN DL: light vec has norm of 1.0000000000000002\n",
      "In DL: image 108; light arealightup: light_vectors (37189, 3)\n",
      "IN DL: light vec has norm of 1.0000000000000002\n",
      "In DL: image 109; light arealightfront: light_vectors (25549, 3)\n"
     ]
    },
    {
     "name": "stderr",
     "output_type": "stream",
     "text": [
      "Loading dataset from chair_intrinsic/train:  81%|▊| 113/140 [00:06<00:01, 19.13it/"
     ]
    },
    {
     "name": "stdout",
     "output_type": "stream",
     "text": [
      "IN DL: light vec has norm of 1.0000000000000002\n",
      "In DL: image 109; light arealightup: light_vectors (25549, 3)\n",
      "IN DL: light vec has norm of 1.0000000000000002\n",
      "In DL: image 110; light arealightfront: light_vectors (45911, 3)\n",
      "IN DL: light vec has norm of 1.0000000000000002\n",
      "In DL: image 110; light arealightup: light_vectors (45911, 3)\n",
      "IN DL: light vec has norm of 1.0000000000000002\n",
      "In DL: image 111; light arealightfront: light_vectors (30462, 3)\n",
      "IN DL: light vec has norm of 1.0000000000000002\n",
      "In DL: image 111; light arealightup: light_vectors (30462, 3)\n",
      "IN DL: light vec has norm of 1.0000000000000002\n",
      "In DL: image 112; light arealightfront: light_vectors (38478, 3)\n",
      "IN DL: light vec has norm of 1.0000000000000002\n",
      "In DL: image 112; light arealightup: light_vectors (38478, 3)\n",
      "IN DL: light vec has norm of 1.0000000000000002\n"
     ]
    },
    {
     "name": "stderr",
     "output_type": "stream",
     "text": [
      "Loading dataset from chair_intrinsic/train:  84%|▊| 117/140 [00:06<00:01, 19.06it/"
     ]
    },
    {
     "name": "stdout",
     "output_type": "stream",
     "text": [
      "In DL: image 113; light arealightfront: light_vectors (47934, 3)\n",
      "IN DL: light vec has norm of 1.0000000000000002\n",
      "In DL: image 113; light arealightup: light_vectors (47934, 3)\n",
      "IN DL: light vec has norm of 1.0000000000000002\n",
      "In DL: image 114; light arealightfront: light_vectors (35674, 3)\n",
      "IN DL: light vec has norm of 1.0000000000000002\n",
      "In DL: image 114; light arealightup: light_vectors (35674, 3)\n",
      "IN DL: light vec has norm of 1.0000000000000002\n",
      "In DL: image 115; light arealightfront: light_vectors (37816, 3)\n",
      "IN DL: light vec has norm of 1.0000000000000002\n",
      "In DL: image 115; light arealightup: light_vectors (37816, 3)\n",
      "IN DL: light vec has norm of 1.0000000000000002\n",
      "In DL: image 116; light arealightfront: light_vectors (32776, 3)\n",
      "IN DL: light vec has norm of 1.0000000000000002\n",
      "In DL: image 116; light arealightup: light_vectors (32776, 3)\n",
      "IN DL: light vec has norm of 1.0000000000000002\n"
     ]
    },
    {
     "name": "stderr",
     "output_type": "stream",
     "text": [
      "Loading dataset from chair_intrinsic/train:  87%|▊| 122/140 [00:06<00:00, 20.02it/"
     ]
    },
    {
     "name": "stdout",
     "output_type": "stream",
     "text": [
      "In DL: image 117; light arealightfront: light_vectors (38292, 3)\n",
      "IN DL: light vec has norm of 1.0000000000000002\n",
      "In DL: image 117; light arealightup: light_vectors (38292, 3)\n",
      "IN DL: light vec has norm of 1.0000000000000002\n",
      "In DL: image 118; light arealightfront: light_vectors (42626, 3)\n",
      "IN DL: light vec has norm of 1.0000000000000002\n",
      "In DL: image 118; light arealightup: light_vectors (42626, 3)\n",
      "IN DL: light vec has norm of 1.0000000000000002\n",
      "In DL: image 119; light arealightfront: light_vectors (24582, 3)\n",
      "IN DL: light vec has norm of 1.0000000000000002\n",
      "In DL: image 119; light arealightup: light_vectors (24582, 3)\n",
      "IN DL: light vec has norm of 1.0000000000000002\n",
      "In DL: image 120; light arealightfront: light_vectors (10502, 3)\n",
      "IN DL: light vec has norm of 1.0000000000000002\n",
      "In DL: image 120; light arealightup: light_vectors (10502, 3)\n",
      "IN DL: light vec has norm of 1.0000000000000002\n",
      "In DL: image 121; light arealightfront: light_vectors (21422, 3)\n",
      "IN DL: light vec has norm of 1.0000000000000002\n",
      "In DL: image 121; light arealightup: light_vectors (21422, 3)\n",
      "IN DL: light vec has norm of 1.0000000000000002\n"
     ]
    },
    {
     "name": "stderr",
     "output_type": "stream",
     "text": [
      "\r",
      "Loading dataset from chair_intrinsic/train:  89%|▉| 125/140 [00:06<00:00, 20.98it/"
     ]
    },
    {
     "name": "stdout",
     "output_type": "stream",
     "text": [
      "In DL: image 122; light arealightfront: light_vectors (11216, 3)\n",
      "IN DL: light vec has norm of 1.0000000000000002\n",
      "In DL: image 122; light arealightup: light_vectors (11216, 3)\n",
      "IN DL: light vec has norm of 1.0000000000000002\n",
      "In DL: image 123; light arealightfront: light_vectors (23058, 3)\n",
      "IN DL: light vec has norm of 1.0000000000000002\n",
      "In DL: image 123; light arealightup: light_vectors (23058, 3)\n",
      "IN DL: light vec has norm of 1.0000000000000002\n",
      "In DL: image 124; light arealightfront: light_vectors (8959, 3)\n",
      "IN DL: light vec has norm of 1.0000000000000002\n",
      "In DL: image 124; light arealightup: light_vectors (8959, 3)\n",
      "IN DL: light vec has norm of 1.0000000000000002\n",
      "In DL: image 125; light arealightfront: light_vectors (20686, 3)\n",
      "IN DL: light vec has norm of 1.0000000000000002\n",
      "In DL: image 125; light arealightup: light_vectors (20686, 3)\n",
      "IN DL: light vec has norm of 1.0000000000000002\n",
      "In DL: image 126; light arealightfront: light_vectors (7879, 3)\n",
      "IN DL: light vec has norm of 1.0000000000000002\n",
      "In DL: image 126; light arealightup: light_vectors (7879, 3)\n",
      "IN DL: light vec has norm of 1.0000000000000002\n"
     ]
    },
    {
     "name": "stderr",
     "output_type": "stream",
     "text": [
      "Loading dataset from chair_intrinsic/train:  94%|▉| 131/140 [00:06<00:00, 23.28it/"
     ]
    },
    {
     "name": "stdout",
     "output_type": "stream",
     "text": [
      "In DL: image 127; light arealightfront: light_vectors (12389, 3)\n",
      "IN DL: light vec has norm of 1.0000000000000002\n",
      "In DL: image 127; light arealightup: light_vectors (12389, 3)\n",
      "IN DL: light vec has norm of 1.0000000000000002\n",
      "In DL: image 128; light arealightfront: light_vectors (7129, 3)\n",
      "IN DL: light vec has norm of 1.0000000000000002\n",
      "In DL: image 128; light arealightup: light_vectors (7129, 3)\n",
      "IN DL: light vec has norm of 1.0000000000000002\n",
      "In DL: image 129; light arealightfront: light_vectors (7879, 3)\n",
      "IN DL: light vec has norm of 1.0000000000000002\n",
      "In DL: image 129; light arealightup: light_vectors (7879, 3)\n",
      "IN DL: light vec has norm of 1.0000000000000002\n",
      "In DL: image 130; light arealightfront: light_vectors (7674, 3)\n",
      "IN DL: light vec has norm of 1.0000000000000002\n",
      "In DL: image 130; light arealightup: light_vectors (7674, 3)\n",
      "IN DL: light vec has norm of 1.0000000000000002\n",
      "In DL: image 131; light arealightfront: light_vectors (11475, 3)\n",
      "IN DL: light vec has norm of 1.0000000000000002\n",
      "In DL: image 131; light arealightup: light_vectors (11475, 3)\n",
      "IN DL: light vec has norm of 1.0000000000000002\n",
      "In DL: image 132; light arealightfront: light_vectors (12748, 3)\n",
      "IN DL: light vec has norm of 1.0000000000000002\n",
      "In DL: image 132; light arealightup: light_vectors (12748, 3)\n",
      "IN DL: light vec has norm of 1.0000000000000002\n"
     ]
    },
    {
     "name": "stderr",
     "output_type": "stream",
     "text": [
      "Loading dataset from chair_intrinsic/train:  98%|▉| 137/140 [00:07<00:00, 24.12it/"
     ]
    },
    {
     "name": "stdout",
     "output_type": "stream",
     "text": [
      "In DL: image 133; light arealightfront: light_vectors (8941, 3)\n",
      "IN DL: light vec has norm of 1.0000000000000002\n",
      "In DL: image 133; light arealightup: light_vectors (8941, 3)\n",
      "IN DL: light vec has norm of 1.0000000000000002\n",
      "In DL: image 134; light arealightfront: light_vectors (11971, 3)\n",
      "IN DL: light vec has norm of 1.0000000000000002\n",
      "In DL: image 134; light arealightup: light_vectors (11971, 3)\n",
      "IN DL: light vec has norm of 1.0000000000000002\n",
      "In DL: image 135; light arealightfront: light_vectors (10906, 3)\n",
      "IN DL: light vec has norm of 1.0000000000000002\n",
      "In DL: image 135; light arealightup: light_vectors (10906, 3)\n",
      "IN DL: light vec has norm of 1.0000000000000002\n",
      "In DL: image 136; light arealightfront: light_vectors (11360, 3)\n",
      "IN DL: light vec has norm of 1.0000000000000002\n",
      "In DL: image 136; light arealightup: light_vectors (11360, 3)\n",
      "IN DL: light vec has norm of 1.0000000000000002\n",
      "In DL: image 137; light arealightfront: light_vectors (11570, 3)\n",
      "IN DL: light vec has norm of 1.0000000000000002\n",
      "In DL: image 137; light arealightup: light_vectors (11570, 3)\n",
      "IN DL: light vec has norm of 1.0000000000000002\n",
      "In DL: image 138; light arealightfront: light_vectors (9145, 3)\n",
      "IN DL: light vec has norm of 1.0000000000000002\n",
      "In DL: image 138; light arealightup: light_vectors (9145, 3)\n",
      "IN DL: light vec has norm of 1.0000000000000002\n"
     ]
    },
    {
     "name": "stderr",
     "output_type": "stream",
     "text": [
      "Loading dataset from chair_intrinsic/train: 100%|█| 140/140 [00:07<00:00, 19.15it/\n"
     ]
    },
    {
     "name": "stdout",
     "output_type": "stream",
     "text": [
      "In DL: image 139; light arealightfront: light_vectors (11413, 3)\n",
      "IN DL: light vec has norm of 1.0000000000000002\n",
      "In DL: image 139; light arealightup: light_vectors (11413, 3)\n",
      "IN DL: light vec has norm of 1.0000000000000002\n",
      "Loaded train dataset.\n"
     ]
    },
    {
     "name": "stderr",
     "output_type": "stream",
     "text": [
      "Loading dataset from chair_intrinsic/val:   1%|   | 2/140 [00:00<00:07, 18.48it/s]"
     ]
    },
    {
     "name": "stdout",
     "output_type": "stream",
     "text": [
      "In DL: image 0; light arealightfront: light_vectors (27974, 3)\n",
      "IN DL: light vec has norm of 1.0000000000000002\n",
      "In DL: image 0; light arealightup: light_vectors (27974, 3)\n",
      "IN DL: light vec has norm of 1.0000000000000002\n",
      "In DL: image 1; light arealightfront: light_vectors (39465, 3)\n",
      "IN DL: light vec has norm of 1.0000000000000002\n",
      "In DL: image 1; light arealightup: light_vectors (39465, 3)\n",
      "IN DL: light vec has norm of 1.0000000000000002\n",
      "In DL: image 2; light arealightfront: light_vectors (43551, 3)\n",
      "IN DL: light vec has norm of 1.0000000000000002\n",
      "In DL: image 2; light arealightup: light_vectors (43551, 3)\n",
      "IN DL: light vec has norm of 1.0000000000000002\n"
     ]
    },
    {
     "name": "stderr",
     "output_type": "stream",
     "text": [
      "\r",
      "Loading dataset from chair_intrinsic/val:   3%|   | 4/140 [00:00<00:07, 17.94it/s]"
     ]
    },
    {
     "name": "stdout",
     "output_type": "stream",
     "text": [
      "In DL: image 3; light arealightfront: light_vectors (41957, 3)\n",
      "IN DL: light vec has norm of 1.0000000000000002\n",
      "In DL: image 3; light arealightup: light_vectors (41957, 3)\n",
      "IN DL: light vec has norm of 1.0000000000000002\n"
     ]
    },
    {
     "name": "stderr",
     "output_type": "stream",
     "text": [
      "\r",
      "Loading dataset from chair_intrinsic/val:   4%|▏  | 6/140 [00:00<00:07, 17.82it/s]"
     ]
    },
    {
     "name": "stdout",
     "output_type": "stream",
     "text": [
      "In DL: image 4; light arealightfront: light_vectors (39809, 3)\n",
      "IN DL: light vec has norm of 1.0000000000000002\n",
      "In DL: image 4; light arealightup: light_vectors (39809, 3)\n",
      "IN DL: light vec has norm of 1.0000000000000002\n",
      "In DL: image 5; light arealightfront: light_vectors (45912, 3)\n",
      "IN DL: light vec has norm of 1.0000000000000002\n",
      "In DL: image 5; light arealightup: light_vectors (45912, 3)\n",
      "IN DL: light vec has norm of 1.0000000000000002\n",
      "In DL: image 6; light arealightfront: light_vectors (32518, 3)\n",
      "IN DL: light vec has norm of 1.0000000000000002\n",
      "In DL: image 6; light arealightup: light_vectors (32518, 3)\n",
      "IN DL: light vec has norm of 1.0000000000000002\n"
     ]
    },
    {
     "name": "stderr",
     "output_type": "stream",
     "text": [
      "\r",
      "Loading dataset from chair_intrinsic/val:   6%|▏  | 8/140 [00:00<00:07, 18.14it/s]"
     ]
    },
    {
     "name": "stdout",
     "output_type": "stream",
     "text": [
      "In DL: image 7; light arealightfront: light_vectors (28619, 3)\n",
      "IN DL: light vec has norm of 1.0000000000000002\n",
      "In DL: image 7; light arealightup: light_vectors (28619, 3)\n",
      "IN DL: light vec has norm of 1.0000000000000002\n"
     ]
    },
    {
     "name": "stderr",
     "output_type": "stream",
     "text": [
      "\r",
      "Loading dataset from chair_intrinsic/val:   7%|▏ | 10/140 [00:00<00:07, 18.46it/s]"
     ]
    },
    {
     "name": "stdout",
     "output_type": "stream",
     "text": [
      "In DL: image 8; light arealightfront: light_vectors (37969, 3)\n",
      "IN DL: light vec has norm of 1.0000000000000002\n",
      "In DL: image 8; light arealightup: light_vectors (37969, 3)\n",
      "IN DL: light vec has norm of 1.0000000000000002\n",
      "In DL: image 9; light arealightfront: light_vectors (34538, 3)\n",
      "IN DL: light vec has norm of 1.0000000000000002\n",
      "In DL: image 9; light arealightup: light_vectors (34538, 3)\n",
      "IN DL: light vec has norm of 1.0000000000000002\n",
      "In DL: image 10; light arealightfront: light_vectors (41977, 3)\n",
      "IN DL: light vec has norm of 1.0000000000000002\n",
      "In DL: image 10; light arealightup: light_vectors (41977, 3)\n",
      "IN DL: light vec has norm of 1.0000000000000002\n"
     ]
    },
    {
     "name": "stderr",
     "output_type": "stream",
     "text": [
      "\r",
      "Loading dataset from chair_intrinsic/val:   9%|▏ | 12/140 [00:00<00:07, 18.06it/s]"
     ]
    },
    {
     "name": "stdout",
     "output_type": "stream",
     "text": [
      "In DL: image 11; light arealightfront: light_vectors (41348, 3)\n",
      "IN DL: light vec has norm of 1.0000000000000002\n",
      "In DL: image 11; light arealightup: light_vectors (41348, 3)\n",
      "IN DL: light vec has norm of 1.0000000000000002\n"
     ]
    },
    {
     "name": "stderr",
     "output_type": "stream",
     "text": [
      "\r",
      "Loading dataset from chair_intrinsic/val:  10%|▏ | 14/140 [00:00<00:07, 17.92it/s]"
     ]
    },
    {
     "name": "stdout",
     "output_type": "stream",
     "text": [
      "In DL: image 12; light arealightfront: light_vectors (46783, 3)\n",
      "IN DL: light vec has norm of 1.0000000000000002\n",
      "In DL: image 12; light arealightup: light_vectors (46783, 3)\n",
      "IN DL: light vec has norm of 1.0000000000000002\n",
      "In DL: image 13; light arealightfront: light_vectors (31269, 3)\n",
      "IN DL: light vec has norm of 1.0000000000000002\n",
      "In DL: image 13; light arealightup: light_vectors (31269, 3)\n",
      "IN DL: light vec has norm of 1.0000000000000002\n",
      "In DL: image 14; light arealightfront: light_vectors (37215, 3)\n",
      "IN DL: light vec has norm of 1.0000000000000002\n",
      "In DL: image 14; light arealightup: light_vectors (37215, 3)\n",
      "IN DL: light vec has norm of 1.0000000000000002\n"
     ]
    },
    {
     "name": "stderr",
     "output_type": "stream",
     "text": [
      "\r",
      "Loading dataset from chair_intrinsic/val:  11%|▏ | 16/140 [00:00<00:07, 17.45it/s]"
     ]
    },
    {
     "name": "stdout",
     "output_type": "stream",
     "text": [
      "In DL: image 15; light arealightfront: light_vectors (32377, 3)\n",
      "IN DL: light vec has norm of 1.0000000000000002\n",
      "In DL: image 15; light arealightup: light_vectors (32377, 3)\n",
      "IN DL: light vec has norm of 1.0000000000000002\n"
     ]
    },
    {
     "name": "stderr",
     "output_type": "stream",
     "text": [
      "\r",
      "Loading dataset from chair_intrinsic/val:  13%|▎ | 18/140 [00:01<00:07, 17.39it/s]"
     ]
    },
    {
     "name": "stdout",
     "output_type": "stream",
     "text": [
      "In DL: image 16; light arealightfront: light_vectors (35596, 3)\n",
      "IN DL: light vec has norm of 1.0000000000000002\n",
      "In DL: image 16; light arealightup: light_vectors (35596, 3)\n",
      "IN DL: light vec has norm of 1.0000000000000002\n",
      "In DL: image 17; light arealightfront: light_vectors (36662, 3)\n",
      "IN DL: light vec has norm of 1.0000000000000002\n",
      "In DL: image 17; light arealightup: light_vectors (36662, 3)\n",
      "IN DL: light vec has norm of 1.0000000000000002\n",
      "In DL: image 18; light arealightfront: light_vectors (46423, 3)\n",
      "IN DL: light vec has norm of 1.0000000000000002\n",
      "In DL: image 18; light arealightup: light_vectors (46423, 3)\n",
      "IN DL: light vec has norm of 1.0000000000000002\n"
     ]
    },
    {
     "name": "stderr",
     "output_type": "stream",
     "text": [
      "\r",
      "Loading dataset from chair_intrinsic/val:  14%|▎ | 20/140 [00:01<00:06, 17.46it/s]"
     ]
    },
    {
     "name": "stdout",
     "output_type": "stream",
     "text": [
      "In DL: image 19; light arealightfront: light_vectors (39681, 3)\n",
      "IN DL: light vec has norm of 1.0000000000000002\n",
      "In DL: image 19; light arealightup: light_vectors (39681, 3)\n",
      "IN DL: light vec has norm of 1.0000000000000002\n"
     ]
    },
    {
     "name": "stderr",
     "output_type": "stream",
     "text": [
      "\r",
      "Loading dataset from chair_intrinsic/val:  16%|▎ | 22/140 [00:01<00:06, 17.57it/s]"
     ]
    },
    {
     "name": "stdout",
     "output_type": "stream",
     "text": [
      "In DL: image 20; light arealightfront: light_vectors (35532, 3)\n",
      "IN DL: light vec has norm of 1.0000000000000002\n",
      "In DL: image 20; light arealightup: light_vectors (35532, 3)\n",
      "IN DL: light vec has norm of 1.0000000000000002\n",
      "In DL: image 21; light arealightfront: light_vectors (34970, 3)\n",
      "IN DL: light vec has norm of 1.0000000000000002\n",
      "In DL: image 21; light arealightup: light_vectors (34970, 3)\n",
      "IN DL: light vec has norm of 1.0000000000000002\n",
      "In DL: image 22; light arealightfront: light_vectors (38031, 3)\n",
      "IN DL: light vec has norm of 1.0000000000000002\n",
      "In DL: image 22; light arealightup: light_vectors (38031, 3)\n",
      "IN DL: light vec has norm of 1.0000000000000002\n"
     ]
    },
    {
     "name": "stderr",
     "output_type": "stream",
     "text": [
      "\r",
      "Loading dataset from chair_intrinsic/val:  17%|▎ | 24/140 [00:01<00:06, 17.67it/s]"
     ]
    },
    {
     "name": "stdout",
     "output_type": "stream",
     "text": [
      "In DL: image 23; light arealightfront: light_vectors (37751, 3)\n",
      "IN DL: light vec has norm of 1.0000000000000002\n",
      "In DL: image 23; light arealightup: light_vectors (37751, 3)\n",
      "IN DL: light vec has norm of 1.0000000000000002\n"
     ]
    },
    {
     "name": "stderr",
     "output_type": "stream",
     "text": [
      "\r",
      "Loading dataset from chair_intrinsic/val:  19%|▎ | 26/140 [00:01<00:06, 17.72it/s]"
     ]
    },
    {
     "name": "stdout",
     "output_type": "stream",
     "text": [
      "In DL: image 24; light arealightfront: light_vectors (41802, 3)\n",
      "IN DL: light vec has norm of 1.0000000000000002\n",
      "In DL: image 24; light arealightup: light_vectors (41802, 3)\n",
      "IN DL: light vec has norm of 1.0000000000000002\n",
      "In DL: image 25; light arealightfront: light_vectors (37137, 3)\n",
      "IN DL: light vec has norm of 1.0000000000000002\n",
      "In DL: image 25; light arealightup: light_vectors (37137, 3)\n",
      "IN DL: light vec has norm of 1.0000000000000002\n",
      "In DL: image 26; light arealightfront: light_vectors (37788, 3)\n",
      "IN DL: light vec has norm of 1.0000000000000002\n",
      "In DL: image 26; light arealightup: light_vectors (37788, 3)\n",
      "IN DL: light vec has norm of 1.0000000000000002\n"
     ]
    },
    {
     "name": "stderr",
     "output_type": "stream",
     "text": [
      "\r",
      "Loading dataset from chair_intrinsic/val:  20%|▍ | 28/140 [00:01<00:06, 17.84it/s]"
     ]
    },
    {
     "name": "stdout",
     "output_type": "stream",
     "text": [
      "In DL: image 27; light arealightfront: light_vectors (46405, 3)\n",
      "IN DL: light vec has norm of 1.0000000000000002\n",
      "In DL: image 27; light arealightup: light_vectors (46405, 3)\n",
      "IN DL: light vec has norm of 1.0000000000000002\n"
     ]
    },
    {
     "name": "stderr",
     "output_type": "stream",
     "text": [
      "\r",
      "Loading dataset from chair_intrinsic/val:  21%|▍ | 30/140 [00:01<00:06, 18.07it/s]"
     ]
    },
    {
     "name": "stdout",
     "output_type": "stream",
     "text": [
      "In DL: image 28; light arealightfront: light_vectors (26649, 3)\n",
      "IN DL: light vec has norm of 1.0000000000000002\n",
      "In DL: image 28; light arealightup: light_vectors (26649, 3)\n",
      "IN DL: light vec has norm of 1.0000000000000002\n",
      "In DL: image 29; light arealightfront: light_vectors (42750, 3)\n",
      "IN DL: light vec has norm of 1.0000000000000002\n",
      "In DL: image 29; light arealightup: light_vectors (42750, 3)\n",
      "IN DL: light vec has norm of 1.0000000000000002\n",
      "In DL: image 30; light arealightfront: light_vectors (46252, 3)\n",
      "IN DL: light vec has norm of 1.0000000000000002\n",
      "In DL: image 30; light arealightup: light_vectors (46252, 3)\n",
      "IN DL: light vec has norm of 1.0000000000000002\n"
     ]
    },
    {
     "name": "stderr",
     "output_type": "stream",
     "text": [
      "\r",
      "Loading dataset from chair_intrinsic/val:  23%|▍ | 32/140 [00:01<00:06, 17.52it/s]"
     ]
    },
    {
     "name": "stdout",
     "output_type": "stream",
     "text": [
      "In DL: image 31; light arealightfront: light_vectors (33506, 3)\n",
      "IN DL: light vec has norm of 1.0000000000000002\n",
      "In DL: image 31; light arealightup: light_vectors (33506, 3)\n",
      "IN DL: light vec has norm of 1.0000000000000002\n"
     ]
    },
    {
     "name": "stderr",
     "output_type": "stream",
     "text": [
      "\r",
      "Loading dataset from chair_intrinsic/val:  24%|▍ | 34/140 [00:01<00:06, 17.34it/s]"
     ]
    },
    {
     "name": "stdout",
     "output_type": "stream",
     "text": [
      "In DL: image 32; light arealightfront: light_vectors (34020, 3)\n",
      "IN DL: light vec has norm of 1.0000000000000002\n",
      "In DL: image 32; light arealightup: light_vectors (34020, 3)\n",
      "IN DL: light vec has norm of 1.0000000000000002\n",
      "In DL: image 33; light arealightfront: light_vectors (39871, 3)\n",
      "IN DL: light vec has norm of 1.0000000000000002\n",
      "In DL: image 33; light arealightup: light_vectors (39871, 3)\n",
      "IN DL: light vec has norm of 1.0000000000000002\n",
      "In DL: image 34; light arealightfront: light_vectors (39948, 3)\n",
      "IN DL: light vec has norm of 1.0000000000000002\n",
      "In DL: image 34; light arealightup: light_vectors (39948, 3)\n",
      "IN DL: light vec has norm of 1.0000000000000002\n"
     ]
    },
    {
     "name": "stderr",
     "output_type": "stream",
     "text": [
      "\r",
      "Loading dataset from chair_intrinsic/val:  26%|▌ | 36/140 [00:02<00:05, 17.55it/s]"
     ]
    },
    {
     "name": "stdout",
     "output_type": "stream",
     "text": [
      "In DL: image 35; light arealightfront: light_vectors (33105, 3)\n",
      "IN DL: light vec has norm of 1.0000000000000002\n",
      "In DL: image 35; light arealightup: light_vectors (33105, 3)\n",
      "IN DL: light vec has norm of 1.0000000000000002\n"
     ]
    },
    {
     "name": "stderr",
     "output_type": "stream",
     "text": [
      "\r",
      "Loading dataset from chair_intrinsic/val:  27%|▌ | 38/140 [00:02<00:05, 17.34it/s]"
     ]
    },
    {
     "name": "stdout",
     "output_type": "stream",
     "text": [
      "In DL: image 36; light arealightfront: light_vectors (46738, 3)\n",
      "IN DL: light vec has norm of 1.0000000000000002\n",
      "In DL: image 36; light arealightup: light_vectors (46738, 3)\n",
      "IN DL: light vec has norm of 1.0000000000000002\n",
      "In DL: image 37; light arealightfront: light_vectors (46789, 3)\n",
      "IN DL: light vec has norm of 1.0000000000000002\n",
      "In DL: image 37; light arealightup: light_vectors (46789, 3)\n",
      "IN DL: light vec has norm of 1.0000000000000002\n",
      "In DL: image 38; light arealightfront: light_vectors (25821, 3)\n",
      "IN DL: light vec has norm of 1.0000000000000002\n",
      "In DL: image 38; light arealightup: light_vectors (25821, 3)\n",
      "IN DL: light vec has norm of 1.0000000000000002\n"
     ]
    },
    {
     "name": "stderr",
     "output_type": "stream",
     "text": [
      "\r",
      "Loading dataset from chair_intrinsic/val:  29%|▌ | 40/140 [00:02<00:05, 17.66it/s]"
     ]
    },
    {
     "name": "stdout",
     "output_type": "stream",
     "text": [
      "In DL: image 39; light arealightfront: light_vectors (42605, 3)\n",
      "IN DL: light vec has norm of 1.0000000000000002\n",
      "In DL: image 39; light arealightup: light_vectors (42605, 3)\n",
      "IN DL: light vec has norm of 1.0000000000000002\n"
     ]
    },
    {
     "name": "stderr",
     "output_type": "stream",
     "text": [
      "\r",
      "Loading dataset from chair_intrinsic/val:  30%|▌ | 42/140 [00:02<00:05, 17.89it/s]"
     ]
    },
    {
     "name": "stdout",
     "output_type": "stream",
     "text": [
      "In DL: image 40; light arealightfront: light_vectors (40148, 3)\n",
      "IN DL: light vec has norm of 1.0000000000000002\n",
      "In DL: image 40; light arealightup: light_vectors (40148, 3)\n",
      "IN DL: light vec has norm of 1.0000000000000002\n",
      "In DL: image 41; light arealightfront: light_vectors (36414, 3)\n",
      "IN DL: light vec has norm of 1.0000000000000002\n",
      "In DL: image 41; light arealightup: light_vectors (36414, 3)\n",
      "IN DL: light vec has norm of 1.0000000000000002\n",
      "In DL: image 42; light arealightfront: light_vectors (35713, 3)\n",
      "IN DL: light vec has norm of 1.0000000000000002\n",
      "In DL: image 42; light arealightup: light_vectors (35713, 3)\n",
      "IN DL: light vec has norm of 1.0000000000000002\n"
     ]
    },
    {
     "name": "stderr",
     "output_type": "stream",
     "text": [
      "\r",
      "Loading dataset from chair_intrinsic/val:  31%|▋ | 44/140 [00:02<00:05, 17.91it/s]"
     ]
    },
    {
     "name": "stdout",
     "output_type": "stream",
     "text": [
      "In DL: image 43; light arealightfront: light_vectors (38665, 3)\n",
      "IN DL: light vec has norm of 1.0000000000000002\n",
      "In DL: image 43; light arealightup: light_vectors (38665, 3)\n",
      "IN DL: light vec has norm of 1.0000000000000002\n"
     ]
    },
    {
     "name": "stderr",
     "output_type": "stream",
     "text": [
      "\r",
      "Loading dataset from chair_intrinsic/val:  33%|▋ | 46/140 [00:02<00:05, 17.64it/s]"
     ]
    },
    {
     "name": "stdout",
     "output_type": "stream",
     "text": [
      "In DL: image 44; light arealightfront: light_vectors (37575, 3)\n",
      "IN DL: light vec has norm of 1.0000000000000002\n",
      "In DL: image 44; light arealightup: light_vectors (37575, 3)\n",
      "IN DL: light vec has norm of 1.0000000000000002\n",
      "In DL: image 45; light arealightfront: light_vectors (37543, 3)\n",
      "IN DL: light vec has norm of 1.0000000000000002\n",
      "In DL: image 45; light arealightup: light_vectors (37543, 3)\n",
      "IN DL: light vec has norm of 1.0000000000000002\n",
      "In DL: image 46; light arealightfront: light_vectors (38402, 3)\n",
      "IN DL: light vec has norm of 1.0000000000000002\n",
      "In DL: image 46; light arealightup: light_vectors (38402, 3)\n",
      "IN DL: light vec has norm of 1.0000000000000002\n"
     ]
    },
    {
     "name": "stderr",
     "output_type": "stream",
     "text": [
      "\r",
      "Loading dataset from chair_intrinsic/val:  34%|▋ | 48/140 [00:02<00:05, 17.25it/s]"
     ]
    },
    {
     "name": "stdout",
     "output_type": "stream",
     "text": [
      "In DL: image 47; light arealightfront: light_vectors (39225, 3)\n",
      "IN DL: light vec has norm of 1.0000000000000002\n",
      "In DL: image 47; light arealightup: light_vectors (39225, 3)\n",
      "IN DL: light vec has norm of 1.0000000000000002\n"
     ]
    },
    {
     "name": "stderr",
     "output_type": "stream",
     "text": [
      "\r",
      "Loading dataset from chair_intrinsic/val:  36%|▋ | 50/140 [00:02<00:05, 16.96it/s]"
     ]
    },
    {
     "name": "stdout",
     "output_type": "stream",
     "text": [
      "In DL: image 48; light arealightfront: light_vectors (55630, 3)\n",
      "IN DL: light vec has norm of 1.0000000000000002\n",
      "In DL: image 48; light arealightup: light_vectors (55630, 3)\n",
      "IN DL: light vec has norm of 1.0000000000000002\n",
      "In DL: image 49; light arealightfront: light_vectors (35541, 3)\n",
      "IN DL: light vec has norm of 1.0000000000000002\n",
      "In DL: image 49; light arealightup: light_vectors (35541, 3)\n",
      "IN DL: light vec has norm of 1.0000000000000002\n",
      "In DL: image 50; light arealightfront: light_vectors (47212, 3)\n",
      "IN DL: light vec has norm of 1.0000000000000002\n",
      "In DL: image 50; light arealightup: light_vectors (47212, 3)\n",
      "IN DL: light vec has norm of 1.0000000000000002\n"
     ]
    },
    {
     "name": "stderr",
     "output_type": "stream",
     "text": [
      "\r",
      "Loading dataset from chair_intrinsic/val:  37%|▋ | 52/140 [00:02<00:05, 17.14it/s]"
     ]
    },
    {
     "name": "stdout",
     "output_type": "stream",
     "text": [
      "In DL: image 51; light arealightfront: light_vectors (37248, 3)\n",
      "IN DL: light vec has norm of 1.0000000000000002\n",
      "In DL: image 51; light arealightup: light_vectors (37248, 3)\n",
      "IN DL: light vec has norm of 1.0000000000000002\n"
     ]
    },
    {
     "name": "stderr",
     "output_type": "stream",
     "text": [
      "\r",
      "Loading dataset from chair_intrinsic/val:  39%|▊ | 54/140 [00:03<00:04, 17.50it/s]"
     ]
    },
    {
     "name": "stdout",
     "output_type": "stream",
     "text": [
      "In DL: image 52; light arealightfront: light_vectors (46842, 3)\n",
      "IN DL: light vec has norm of 1.0000000000000002\n",
      "In DL: image 52; light arealightup: light_vectors (46842, 3)\n",
      "IN DL: light vec has norm of 1.0000000000000002\n",
      "In DL: image 53; light arealightfront: light_vectors (26626, 3)\n",
      "IN DL: light vec has norm of 1.0000000000000002\n",
      "In DL: image 53; light arealightup: light_vectors (26626, 3)\n",
      "IN DL: light vec has norm of 1.0000000000000002\n",
      "In DL: image 54; light arealightfront: light_vectors (45682, 3)\n",
      "IN DL: light vec has norm of 1.0000000000000002\n",
      "In DL: image 54; light arealightup: light_vectors (45682, 3)\n",
      "IN DL: light vec has norm of 1.0000000000000002\n"
     ]
    },
    {
     "name": "stderr",
     "output_type": "stream",
     "text": [
      "\r",
      "Loading dataset from chair_intrinsic/val:  40%|▊ | 56/140 [00:03<00:04, 17.72it/s]"
     ]
    },
    {
     "name": "stdout",
     "output_type": "stream",
     "text": [
      "In DL: image 55; light arealightfront: light_vectors (41267, 3)\n",
      "IN DL: light vec has norm of 1.0000000000000002\n",
      "In DL: image 55; light arealightup: light_vectors (41267, 3)\n",
      "IN DL: light vec has norm of 1.0000000000000002\n"
     ]
    },
    {
     "name": "stderr",
     "output_type": "stream",
     "text": [
      "\r",
      "Loading dataset from chair_intrinsic/val:  41%|▊ | 58/140 [00:03<00:04, 17.82it/s]"
     ]
    },
    {
     "name": "stdout",
     "output_type": "stream",
     "text": [
      "In DL: image 56; light arealightfront: light_vectors (39554, 3)\n",
      "IN DL: light vec has norm of 1.0000000000000002\n",
      "In DL: image 56; light arealightup: light_vectors (39554, 3)\n",
      "IN DL: light vec has norm of 1.0000000000000002\n",
      "In DL: image 57; light arealightfront: light_vectors (28526, 3)\n",
      "IN DL: light vec has norm of 1.0000000000000002\n",
      "In DL: image 57; light arealightup: light_vectors (28526, 3)\n",
      "IN DL: light vec has norm of 1.0000000000000002\n",
      "In DL: image 58; light arealightfront: light_vectors (35698, 3)\n",
      "IN DL: light vec has norm of 1.0000000000000002\n",
      "In DL: image 58; light arealightup: light_vectors (35698, 3)\n",
      "IN DL: light vec has norm of 1.0000000000000002\n"
     ]
    },
    {
     "name": "stderr",
     "output_type": "stream",
     "text": [
      "\r",
      "Loading dataset from chair_intrinsic/val:  43%|▊ | 60/140 [00:03<00:04, 17.91it/s]"
     ]
    },
    {
     "name": "stdout",
     "output_type": "stream",
     "text": [
      "In DL: image 59; light arealightfront: light_vectors (38682, 3)\n",
      "IN DL: light vec has norm of 1.0000000000000002\n",
      "In DL: image 59; light arealightup: light_vectors (38682, 3)\n",
      "IN DL: light vec has norm of 1.0000000000000002\n"
     ]
    },
    {
     "name": "stderr",
     "output_type": "stream",
     "text": [
      "\r",
      "Loading dataset from chair_intrinsic/val:  44%|▉ | 62/140 [00:03<00:04, 17.53it/s]"
     ]
    },
    {
     "name": "stdout",
     "output_type": "stream",
     "text": [
      "In DL: image 60; light arealightfront: light_vectors (38691, 3)\n",
      "IN DL: light vec has norm of 1.0000000000000002\n",
      "In DL: image 60; light arealightup: light_vectors (38691, 3)\n",
      "IN DL: light vec has norm of 1.0000000000000002\n",
      "In DL: image 61; light arealightfront: light_vectors (40960, 3)\n",
      "IN DL: light vec has norm of 1.0000000000000002\n",
      "In DL: image 61; light arealightup: light_vectors (40960, 3)\n",
      "IN DL: light vec has norm of 1.0000000000000002\n",
      "In DL: image 62; light arealightfront: light_vectors (46376, 3)\n",
      "IN DL: light vec has norm of 1.0000000000000002\n",
      "In DL: image 62; light arealightup: light_vectors (46376, 3)\n",
      "IN DL: light vec has norm of 1.0000000000000002\n"
     ]
    },
    {
     "name": "stderr",
     "output_type": "stream",
     "text": [
      "\r",
      "Loading dataset from chair_intrinsic/val:  46%|▉ | 64/140 [00:03<00:04, 17.73it/s]"
     ]
    },
    {
     "name": "stdout",
     "output_type": "stream",
     "text": [
      "In DL: image 63; light arealightfront: light_vectors (30849, 3)\n",
      "IN DL: light vec has norm of 1.0000000000000002\n",
      "In DL: image 63; light arealightup: light_vectors (30849, 3)\n",
      "IN DL: light vec has norm of 1.0000000000000002\n"
     ]
    },
    {
     "name": "stderr",
     "output_type": "stream",
     "text": [
      "\r",
      "Loading dataset from chair_intrinsic/val:  47%|▉ | 66/140 [00:03<00:04, 17.86it/s]"
     ]
    },
    {
     "name": "stdout",
     "output_type": "stream",
     "text": [
      "In DL: image 64; light arealightfront: light_vectors (40829, 3)\n",
      "IN DL: light vec has norm of 1.0000000000000002\n",
      "In DL: image 64; light arealightup: light_vectors (40829, 3)\n",
      "IN DL: light vec has norm of 1.0000000000000002\n",
      "In DL: image 65; light arealightfront: light_vectors (39749, 3)\n",
      "IN DL: light vec has norm of 1.0000000000000002\n",
      "In DL: image 65; light arealightup: light_vectors (39749, 3)\n",
      "IN DL: light vec has norm of 1.0000000000000002\n",
      "In DL: image 66; light arealightfront: light_vectors (28504, 3)\n",
      "IN DL: light vec has norm of 1.0000000000000002\n",
      "In DL: image 66; light arealightup: light_vectors (28504, 3)\n",
      "IN DL: light vec has norm of 1.0000000000000002\n"
     ]
    },
    {
     "name": "stderr",
     "output_type": "stream",
     "text": [
      "\r",
      "Loading dataset from chair_intrinsic/val:  49%|▉ | 68/140 [00:03<00:04, 17.87it/s]"
     ]
    },
    {
     "name": "stdout",
     "output_type": "stream",
     "text": [
      "In DL: image 67; light arealightfront: light_vectors (46070, 3)\n",
      "IN DL: light vec has norm of 1.0000000000000002\n",
      "In DL: image 67; light arealightup: light_vectors (46070, 3)\n",
      "IN DL: light vec has norm of 1.0000000000000002\n"
     ]
    },
    {
     "name": "stderr",
     "output_type": "stream",
     "text": [
      "\r",
      "Loading dataset from chair_intrinsic/val:  50%|█ | 70/140 [00:03<00:03, 18.08it/s]"
     ]
    },
    {
     "name": "stdout",
     "output_type": "stream",
     "text": [
      "In DL: image 68; light arealightfront: light_vectors (30968, 3)\n",
      "IN DL: light vec has norm of 1.0000000000000002\n",
      "In DL: image 68; light arealightup: light_vectors (30968, 3)\n",
      "IN DL: light vec has norm of 1.0000000000000002\n",
      "In DL: image 69; light arealightfront: light_vectors (30288, 3)\n",
      "IN DL: light vec has norm of 1.0000000000000002\n",
      "In DL: image 69; light arealightup: light_vectors (30288, 3)\n",
      "IN DL: light vec has norm of 1.0000000000000002\n",
      "In DL: image 70; light arealightfront: light_vectors (34034, 3)\n",
      "IN DL: light vec has norm of 1.0000000000000002\n",
      "In DL: image 70; light arealightup: light_vectors (34034, 3)\n",
      "IN DL: light vec has norm of 1.0000000000000002\n"
     ]
    },
    {
     "name": "stderr",
     "output_type": "stream",
     "text": [
      "\r",
      "Loading dataset from chair_intrinsic/val:  51%|█ | 72/140 [00:04<00:03, 17.99it/s]"
     ]
    },
    {
     "name": "stdout",
     "output_type": "stream",
     "text": [
      "In DL: image 71; light arealightfront: light_vectors (41887, 3)\n",
      "IN DL: light vec has norm of 1.0000000000000002\n",
      "In DL: image 71; light arealightup: light_vectors (41887, 3)\n",
      "IN DL: light vec has norm of 1.0000000000000002\n"
     ]
    },
    {
     "name": "stderr",
     "output_type": "stream",
     "text": [
      "\r",
      "Loading dataset from chair_intrinsic/val:  53%|█ | 74/140 [00:04<00:03, 17.97it/s]"
     ]
    },
    {
     "name": "stdout",
     "output_type": "stream",
     "text": [
      "In DL: image 72; light arealightfront: light_vectors (41095, 3)\n",
      "IN DL: light vec has norm of 1.0000000000000002\n",
      "In DL: image 72; light arealightup: light_vectors (41095, 3)\n",
      "IN DL: light vec has norm of 1.0000000000000002\n",
      "In DL: image 73; light arealightfront: light_vectors (36562, 3)\n",
      "IN DL: light vec has norm of 1.0000000000000002\n",
      "In DL: image 73; light arealightup: light_vectors (36562, 3)\n",
      "IN DL: light vec has norm of 1.0000000000000002\n",
      "In DL: image 74; light arealightfront: light_vectors (46136, 3)\n",
      "IN DL: light vec has norm of 1.0000000000000002\n",
      "In DL: image 74; light arealightup: light_vectors (46136, 3)\n",
      "IN DL: light vec has norm of 1.0000000000000002\n"
     ]
    },
    {
     "name": "stderr",
     "output_type": "stream",
     "text": [
      "\r",
      "Loading dataset from chair_intrinsic/val:  54%|█ | 76/140 [00:04<00:03, 17.62it/s]"
     ]
    },
    {
     "name": "stdout",
     "output_type": "stream",
     "text": [
      "In DL: image 75; light arealightfront: light_vectors (43792, 3)\n",
      "IN DL: light vec has norm of 1.0000000000000002\n",
      "In DL: image 75; light arealightup: light_vectors (43792, 3)\n",
      "IN DL: light vec has norm of 1.0000000000000002\n"
     ]
    },
    {
     "name": "stderr",
     "output_type": "stream",
     "text": [
      "\r",
      "Loading dataset from chair_intrinsic/val:  56%|█ | 78/140 [00:04<00:03, 17.55it/s]"
     ]
    },
    {
     "name": "stdout",
     "output_type": "stream",
     "text": [
      "In DL: image 76; light arealightfront: light_vectors (35021, 3)\n",
      "IN DL: light vec has norm of 1.0000000000000002\n",
      "In DL: image 76; light arealightup: light_vectors (35021, 3)\n",
      "IN DL: light vec has norm of 1.0000000000000002\n",
      "In DL: image 77; light arealightfront: light_vectors (39672, 3)\n",
      "IN DL: light vec has norm of 1.0000000000000002\n",
      "In DL: image 77; light arealightup: light_vectors (39672, 3)\n",
      "IN DL: light vec has norm of 1.0000000000000002\n",
      "In DL: image 78; light arealightfront: light_vectors (27688, 3)\n",
      "IN DL: light vec has norm of 1.0000000000000002\n",
      "In DL: image 78; light arealightup: light_vectors (27688, 3)\n",
      "IN DL: light vec has norm of 1.0000000000000002\n"
     ]
    },
    {
     "name": "stderr",
     "output_type": "stream",
     "text": [
      "\r",
      "Loading dataset from chair_intrinsic/val:  57%|█▏| 80/140 [00:04<00:03, 17.61it/s]"
     ]
    },
    {
     "name": "stdout",
     "output_type": "stream",
     "text": [
      "In DL: image 79; light arealightfront: light_vectors (46719, 3)\n",
      "IN DL: light vec has norm of 1.0000000000000002\n",
      "In DL: image 79; light arealightup: light_vectors (46719, 3)\n",
      "IN DL: light vec has norm of 1.0000000000000002\n"
     ]
    },
    {
     "name": "stderr",
     "output_type": "stream",
     "text": [
      "\r",
      "Loading dataset from chair_intrinsic/val:  59%|█▏| 82/140 [00:04<00:03, 17.78it/s]"
     ]
    },
    {
     "name": "stdout",
     "output_type": "stream",
     "text": [
      "In DL: image 80; light arealightfront: light_vectors (41759, 3)\n",
      "IN DL: light vec has norm of 1.0000000000000002\n",
      "In DL: image 80; light arealightup: light_vectors (41759, 3)\n",
      "IN DL: light vec has norm of 1.0000000000000002\n",
      "In DL: image 81; light arealightfront: light_vectors (38601, 3)\n",
      "IN DL: light vec has norm of 1.0000000000000002\n",
      "In DL: image 81; light arealightup: light_vectors (38601, 3)\n",
      "IN DL: light vec has norm of 1.0000000000000002\n",
      "In DL: image 82; light arealightfront: light_vectors (44022, 3)\n",
      "IN DL: light vec has norm of 1.0000000000000002\n",
      "In DL: image 82; light arealightup: light_vectors (44022, 3)\n",
      "IN DL: light vec has norm of 1.0000000000000002\n"
     ]
    },
    {
     "name": "stderr",
     "output_type": "stream",
     "text": [
      "\r",
      "Loading dataset from chair_intrinsic/val:  60%|█▏| 84/140 [00:04<00:03, 17.80it/s]"
     ]
    },
    {
     "name": "stdout",
     "output_type": "stream",
     "text": [
      "In DL: image 83; light arealightfront: light_vectors (38698, 3)\n",
      "IN DL: light vec has norm of 1.0000000000000002\n",
      "In DL: image 83; light arealightup: light_vectors (38698, 3)\n",
      "IN DL: light vec has norm of 1.0000000000000002\n"
     ]
    },
    {
     "name": "stderr",
     "output_type": "stream",
     "text": [
      "\r",
      "Loading dataset from chair_intrinsic/val:  61%|█▏| 86/140 [00:04<00:03, 17.87it/s]"
     ]
    },
    {
     "name": "stdout",
     "output_type": "stream",
     "text": [
      "In DL: image 84; light arealightfront: light_vectors (45405, 3)\n",
      "IN DL: light vec has norm of 1.0000000000000002\n",
      "In DL: image 84; light arealightup: light_vectors (45405, 3)\n",
      "IN DL: light vec has norm of 1.0000000000000002\n",
      "In DL: image 85; light arealightfront: light_vectors (35744, 3)\n",
      "IN DL: light vec has norm of 1.0000000000000002\n",
      "In DL: image 85; light arealightup: light_vectors (35744, 3)\n",
      "IN DL: light vec has norm of 1.0000000000000002\n",
      "In DL: image 86; light arealightfront: light_vectors (44826, 3)\n",
      "IN DL: light vec has norm of 1.0000000000000002\n",
      "In DL: image 86; light arealightup: light_vectors (44826, 3)\n",
      "IN DL: light vec has norm of 1.0000000000000002\n"
     ]
    },
    {
     "name": "stderr",
     "output_type": "stream",
     "text": [
      "\r",
      "Loading dataset from chair_intrinsic/val:  63%|█▎| 88/140 [00:04<00:02, 17.75it/s]"
     ]
    },
    {
     "name": "stdout",
     "output_type": "stream",
     "text": [
      "In DL: image 87; light arealightfront: light_vectors (40560, 3)\n",
      "IN DL: light vec has norm of 1.0000000000000002\n",
      "In DL: image 87; light arealightup: light_vectors (40560, 3)\n",
      "IN DL: light vec has norm of 1.0000000000000002\n"
     ]
    },
    {
     "name": "stderr",
     "output_type": "stream",
     "text": [
      "\r",
      "Loading dataset from chair_intrinsic/val:  64%|█▎| 90/140 [00:05<00:02, 17.89it/s]"
     ]
    },
    {
     "name": "stdout",
     "output_type": "stream",
     "text": [
      "In DL: image 88; light arealightfront: light_vectors (32504, 3)\n",
      "IN DL: light vec has norm of 1.0000000000000002\n",
      "In DL: image 88; light arealightup: light_vectors (32504, 3)\n",
      "IN DL: light vec has norm of 1.0000000000000002\n",
      "In DL: image 89; light arealightfront: light_vectors (43634, 3)\n",
      "IN DL: light vec has norm of 1.0000000000000002\n",
      "In DL: image 89; light arealightup: light_vectors (43634, 3)\n",
      "IN DL: light vec has norm of 1.0000000000000002\n",
      "In DL: image 90; light arealightfront: light_vectors (35901, 3)\n",
      "IN DL: light vec has norm of 1.0000000000000002\n",
      "In DL: image 90; light arealightup: light_vectors (35901, 3)\n",
      "IN DL: light vec has norm of 1.0000000000000002\n"
     ]
    },
    {
     "name": "stderr",
     "output_type": "stream",
     "text": [
      "\r",
      "Loading dataset from chair_intrinsic/val:  66%|█▎| 92/140 [00:05<00:02, 17.80it/s]"
     ]
    },
    {
     "name": "stdout",
     "output_type": "stream",
     "text": [
      "In DL: image 91; light arealightfront: light_vectors (38365, 3)\n",
      "IN DL: light vec has norm of 1.0000000000000002\n",
      "In DL: image 91; light arealightup: light_vectors (38365, 3)\n",
      "IN DL: light vec has norm of 1.0000000000000002\n"
     ]
    },
    {
     "name": "stderr",
     "output_type": "stream",
     "text": [
      "\r",
      "Loading dataset from chair_intrinsic/val:  67%|█▎| 94/140 [00:05<00:02, 17.81it/s]"
     ]
    },
    {
     "name": "stdout",
     "output_type": "stream",
     "text": [
      "In DL: image 92; light arealightfront: light_vectors (35498, 3)\n",
      "IN DL: light vec has norm of 1.0000000000000002\n",
      "In DL: image 92; light arealightup: light_vectors (35498, 3)\n",
      "IN DL: light vec has norm of 1.0000000000000002\n",
      "In DL: image 93; light arealightfront: light_vectors (43614, 3)\n",
      "IN DL: light vec has norm of 1.0000000000000002\n",
      "In DL: image 93; light arealightup: light_vectors (43614, 3)\n",
      "IN DL: light vec has norm of 1.0000000000000002\n",
      "In DL: image 94; light arealightfront: light_vectors (29290, 3)\n",
      "IN DL: light vec has norm of 1.0000000000000002\n",
      "In DL: image 94; light arealightup: light_vectors (29290, 3)\n",
      "IN DL: light vec has norm of 1.0000000000000002\n"
     ]
    },
    {
     "name": "stderr",
     "output_type": "stream",
     "text": [
      "\r",
      "Loading dataset from chair_intrinsic/val:  69%|█▎| 96/140 [00:05<00:02, 17.78it/s]"
     ]
    },
    {
     "name": "stdout",
     "output_type": "stream",
     "text": [
      "In DL: image 95; light arealightfront: light_vectors (41384, 3)\n",
      "IN DL: light vec has norm of 1.0000000000000002\n",
      "In DL: image 95; light arealightup: light_vectors (41384, 3)\n",
      "IN DL: light vec has norm of 1.0000000000000002\n"
     ]
    },
    {
     "name": "stderr",
     "output_type": "stream",
     "text": [
      "\r",
      "Loading dataset from chair_intrinsic/val:  70%|█▍| 98/140 [00:05<00:02, 17.96it/s]"
     ]
    },
    {
     "name": "stdout",
     "output_type": "stream",
     "text": [
      "In DL: image 96; light arealightfront: light_vectors (37772, 3)\n",
      "IN DL: light vec has norm of 1.0000000000000002\n",
      "In DL: image 96; light arealightup: light_vectors (37772, 3)\n",
      "IN DL: light vec has norm of 1.0000000000000002\n",
      "In DL: image 97; light arealightfront: light_vectors (32975, 3)\n",
      "IN DL: light vec has norm of 1.0000000000000002\n",
      "In DL: image 97; light arealightup: light_vectors (32975, 3)\n",
      "IN DL: light vec has norm of 1.0000000000000002\n",
      "In DL: image 98; light arealightfront: light_vectors (46712, 3)\n",
      "IN DL: light vec has norm of 1.0000000000000002\n",
      "In DL: image 98; light arealightup: light_vectors (46712, 3)\n",
      "IN DL: light vec has norm of 1.0000000000000002\n"
     ]
    },
    {
     "name": "stderr",
     "output_type": "stream",
     "text": [
      "\r",
      "Loading dataset from chair_intrinsic/val:  71%|▋| 100/140 [00:05<00:02, 17.95it/s]"
     ]
    },
    {
     "name": "stdout",
     "output_type": "stream",
     "text": [
      "In DL: image 99; light arealightfront: light_vectors (33964, 3)\n",
      "IN DL: light vec has norm of 1.0000000000000002\n",
      "In DL: image 99; light arealightup: light_vectors (33964, 3)\n",
      "IN DL: light vec has norm of 1.0000000000000002\n"
     ]
    },
    {
     "name": "stderr",
     "output_type": "stream",
     "text": [
      "\r",
      "Loading dataset from chair_intrinsic/val:  73%|▋| 102/140 [00:05<00:02, 18.38it/s]"
     ]
    },
    {
     "name": "stdout",
     "output_type": "stream",
     "text": [
      "In DL: image 100; light arealightfront: light_vectors (29069, 3)\n",
      "IN DL: light vec has norm of 1.0000000000000002\n",
      "In DL: image 100; light arealightup: light_vectors (29069, 3)\n",
      "IN DL: light vec has norm of 1.0000000000000002\n",
      "In DL: image 101; light arealightfront: light_vectors (26495, 3)\n",
      "IN DL: light vec has norm of 1.0000000000000002\n",
      "In DL: image 101; light arealightup: light_vectors (26495, 3)\n",
      "IN DL: light vec has norm of 1.0000000000000002\n",
      "In DL: image 102; light arealightfront: light_vectors (24474, 3)\n",
      "IN DL: light vec has norm of 1.0000000000000002\n",
      "In DL: image 102; light arealightup: light_vectors (24474, 3)\n",
      "IN DL: light vec has norm of 1.0000000000000002\n"
     ]
    },
    {
     "name": "stderr",
     "output_type": "stream",
     "text": [
      "\r",
      "Loading dataset from chair_intrinsic/val:  74%|▋| 104/140 [00:05<00:01, 18.65it/s]"
     ]
    },
    {
     "name": "stdout",
     "output_type": "stream",
     "text": [
      "In DL: image 103; light arealightfront: light_vectors (31353, 3)\n",
      "IN DL: light vec has norm of 1.0000000000000002\n",
      "In DL: image 103; light arealightup: light_vectors (31353, 3)\n",
      "IN DL: light vec has norm of 1.0000000000000002\n"
     ]
    },
    {
     "name": "stderr",
     "output_type": "stream",
     "text": [
      "\r",
      "Loading dataset from chair_intrinsic/val:  76%|▊| 106/140 [00:05<00:01, 18.56it/s]"
     ]
    },
    {
     "name": "stdout",
     "output_type": "stream",
     "text": [
      "In DL: image 104; light arealightfront: light_vectors (21678, 3)\n",
      "IN DL: light vec has norm of 1.0000000000000002\n",
      "In DL: image 104; light arealightup: light_vectors (21678, 3)\n",
      "IN DL: light vec has norm of 1.0000000000000002\n",
      "In DL: image 105; light arealightfront: light_vectors (43497, 3)\n",
      "IN DL: light vec has norm of 1.0000000000000002\n",
      "In DL: image 105; light arealightup: light_vectors (43497, 3)\n",
      "IN DL: light vec has norm of 1.0000000000000002\n",
      "In DL: image 106; light arealightfront: light_vectors (26927, 3)\n",
      "IN DL: light vec has norm of 1.0000000000000002\n",
      "In DL: image 106; light arealightup: light_vectors (26927, 3)\n",
      "IN DL: light vec has norm of 1.0000000000000002\n"
     ]
    },
    {
     "name": "stderr",
     "output_type": "stream",
     "text": [
      "\r",
      "Loading dataset from chair_intrinsic/val:  77%|▊| 108/140 [00:06<00:01, 18.90it/s]"
     ]
    },
    {
     "name": "stdout",
     "output_type": "stream",
     "text": [
      "In DL: image 107; light arealightfront: light_vectors (29982, 3)\n",
      "IN DL: light vec has norm of 1.0000000000000002\n",
      "In DL: image 107; light arealightup: light_vectors (29982, 3)\n",
      "IN DL: light vec has norm of 1.0000000000000002\n"
     ]
    },
    {
     "name": "stderr",
     "output_type": "stream",
     "text": [
      "\r",
      "Loading dataset from chair_intrinsic/val:  79%|▊| 110/140 [00:06<00:01, 19.02it/s]"
     ]
    },
    {
     "name": "stdout",
     "output_type": "stream",
     "text": [
      "In DL: image 108; light arealightfront: light_vectors (37189, 3)\n",
      "IN DL: light vec has norm of 1.0000000000000002\n",
      "In DL: image 108; light arealightup: light_vectors (37189, 3)\n",
      "IN DL: light vec has norm of 1.0000000000000002\n",
      "In DL: image 109; light arealightfront: light_vectors (25549, 3)\n",
      "IN DL: light vec has norm of 1.0000000000000002\n",
      "In DL: image 109; light arealightup: light_vectors (25549, 3)\n",
      "IN DL: light vec has norm of 1.0000000000000002\n",
      "In DL: image 110; light arealightfront: light_vectors (45911, 3)\n",
      "IN DL: light vec has norm of 1.0000000000000002\n",
      "In DL: image 110; light arealightup: light_vectors (45911, 3)\n",
      "IN DL: light vec has norm of 1.0000000000000002\n"
     ]
    },
    {
     "name": "stderr",
     "output_type": "stream",
     "text": [
      "\r",
      "Loading dataset from chair_intrinsic/val:  80%|▊| 112/140 [00:06<00:01, 18.74it/s]"
     ]
    },
    {
     "name": "stdout",
     "output_type": "stream",
     "text": [
      "In DL: image 111; light arealightfront: light_vectors (30462, 3)\n",
      "IN DL: light vec has norm of 1.0000000000000002\n",
      "In DL: image 111; light arealightup: light_vectors (30462, 3)\n",
      "IN DL: light vec has norm of 1.0000000000000002\n"
     ]
    },
    {
     "name": "stderr",
     "output_type": "stream",
     "text": [
      "\r",
      "Loading dataset from chair_intrinsic/val:  81%|▊| 114/140 [00:06<00:01, 18.13it/s]"
     ]
    },
    {
     "name": "stdout",
     "output_type": "stream",
     "text": [
      "In DL: image 112; light arealightfront: light_vectors (38478, 3)\n",
      "IN DL: light vec has norm of 1.0000000000000002\n",
      "In DL: image 112; light arealightup: light_vectors (38478, 3)\n",
      "IN DL: light vec has norm of 1.0000000000000002\n",
      "In DL: image 113; light arealightfront: light_vectors (47934, 3)\n",
      "IN DL: light vec has norm of 1.0000000000000002\n",
      "In DL: image 113; light arealightup: light_vectors (47934, 3)\n",
      "IN DL: light vec has norm of 1.0000000000000002\n",
      "In DL: image 114; light arealightfront: light_vectors (35674, 3)\n",
      "IN DL: light vec has norm of 1.0000000000000002\n",
      "In DL: image 114; light arealightup: light_vectors (35674, 3)\n",
      "IN DL: light vec has norm of 1.0000000000000002\n"
     ]
    },
    {
     "name": "stderr",
     "output_type": "stream",
     "text": [
      "\r",
      "Loading dataset from chair_intrinsic/val:  83%|▊| 116/140 [00:06<00:01, 18.08it/s]"
     ]
    },
    {
     "name": "stdout",
     "output_type": "stream",
     "text": [
      "In DL: image 115; light arealightfront: light_vectors (37816, 3)\n",
      "IN DL: light vec has norm of 1.0000000000000002\n",
      "In DL: image 115; light arealightup: light_vectors (37816, 3)\n",
      "IN DL: light vec has norm of 1.0000000000000002\n"
     ]
    },
    {
     "name": "stderr",
     "output_type": "stream",
     "text": [
      "\r",
      "Loading dataset from chair_intrinsic/val:  84%|▊| 118/140 [00:06<00:01, 18.12it/s]"
     ]
    },
    {
     "name": "stdout",
     "output_type": "stream",
     "text": [
      "In DL: image 116; light arealightfront: light_vectors (32776, 3)\n",
      "IN DL: light vec has norm of 1.0000000000000002\n",
      "In DL: image 116; light arealightup: light_vectors (32776, 3)\n",
      "IN DL: light vec has norm of 1.0000000000000002\n",
      "In DL: image 117; light arealightfront: light_vectors (38292, 3)\n",
      "IN DL: light vec has norm of 1.0000000000000002\n",
      "In DL: image 117; light arealightup: light_vectors (38292, 3)\n",
      "IN DL: light vec has norm of 1.0000000000000002\n",
      "In DL: image 118; light arealightfront: light_vectors (42626, 3)\n",
      "IN DL: light vec has norm of 1.0000000000000002\n",
      "In DL: image 118; light arealightup: light_vectors (42626, 3)\n",
      "IN DL: light vec has norm of 1.0000000000000002\n"
     ]
    },
    {
     "name": "stderr",
     "output_type": "stream",
     "text": [
      "\r",
      "Loading dataset from chair_intrinsic/val:  86%|▊| 120/140 [00:06<00:01, 18.29it/s]"
     ]
    },
    {
     "name": "stdout",
     "output_type": "stream",
     "text": [
      "In DL: image 119; light arealightfront: light_vectors (24582, 3)\n",
      "IN DL: light vec has norm of 1.0000000000000002\n",
      "In DL: image 119; light arealightup: light_vectors (24582, 3)\n",
      "IN DL: light vec has norm of 1.0000000000000002\n"
     ]
    },
    {
     "name": "stderr",
     "output_type": "stream",
     "text": [
      "\r",
      "Loading dataset from chair_intrinsic/val:  88%|▉| 123/140 [00:06<00:00, 19.98it/s]"
     ]
    },
    {
     "name": "stdout",
     "output_type": "stream",
     "text": [
      "In DL: image 120; light arealightfront: light_vectors (10502, 3)\n",
      "IN DL: light vec has norm of 1.0000000000000002\n",
      "In DL: image 120; light arealightup: light_vectors (10502, 3)\n",
      "IN DL: light vec has norm of 1.0000000000000002\n",
      "In DL: image 121; light arealightfront: light_vectors (21422, 3)\n",
      "IN DL: light vec has norm of 1.0000000000000002\n",
      "In DL: image 121; light arealightup: light_vectors (21422, 3)\n",
      "IN DL: light vec has norm of 1.0000000000000002\n",
      "In DL: image 122; light arealightfront: light_vectors (11216, 3)\n",
      "IN DL: light vec has norm of 1.0000000000000002\n",
      "In DL: image 122; light arealightup: light_vectors (11216, 3)\n",
      "IN DL: light vec has norm of 1.0000000000000002\n",
      "In DL: image 123; light arealightfront: light_vectors (23058, 3)\n",
      "IN DL: light vec has norm of 1.0000000000000002\n",
      "In DL: image 123; light arealightup: light_vectors (23058, 3)\n",
      "IN DL: light vec has norm of 1.0000000000000002\n",
      "In DL: image 124; light arealightfront: light_vectors (8959, 3)\n",
      "IN DL: light vec has norm of 1.0000000000000002\n",
      "In DL: image 124; light arealightup: light_vectors (8959, 3)\n",
      "IN DL: light vec has norm of 1.0000000000000002\n"
     ]
    },
    {
     "name": "stderr",
     "output_type": "stream",
     "text": [
      "Loading dataset from chair_intrinsic/val:  92%|▉| 129/140 [00:07<00:00, 21.98it/s]"
     ]
    },
    {
     "name": "stdout",
     "output_type": "stream",
     "text": [
      "In DL: image 125; light arealightfront: light_vectors (20686, 3)\n",
      "IN DL: light vec has norm of 1.0000000000000002\n",
      "In DL: image 125; light arealightup: light_vectors (20686, 3)\n",
      "IN DL: light vec has norm of 1.0000000000000002\n",
      "In DL: image 126; light arealightfront: light_vectors (7879, 3)\n",
      "IN DL: light vec has norm of 1.0000000000000002\n",
      "In DL: image 126; light arealightup: light_vectors (7879, 3)\n",
      "IN DL: light vec has norm of 1.0000000000000002\n",
      "In DL: image 127; light arealightfront: light_vectors (12389, 3)\n",
      "IN DL: light vec has norm of 1.0000000000000002\n",
      "In DL: image 127; light arealightup: light_vectors (12389, 3)\n",
      "IN DL: light vec has norm of 1.0000000000000002\n",
      "In DL: image 128; light arealightfront: light_vectors (7129, 3)\n",
      "IN DL: light vec has norm of 1.0000000000000002\n",
      "In DL: image 128; light arealightup: light_vectors (7129, 3)\n",
      "IN DL: light vec has norm of 1.0000000000000002\n",
      "In DL: image 129; light arealightfront: light_vectors (7879, 3)\n",
      "IN DL: light vec has norm of 1.0000000000000002\n",
      "In DL: image 129; light arealightup: light_vectors (7879, 3)\n",
      "IN DL: light vec has norm of 1.0000000000000002\n"
     ]
    },
    {
     "name": "stderr",
     "output_type": "stream",
     "text": [
      "\r",
      "Loading dataset from chair_intrinsic/val:  94%|▉| 132/140 [00:07<00:00, 22.81it/s]"
     ]
    },
    {
     "name": "stdout",
     "output_type": "stream",
     "text": [
      "In DL: image 130; light arealightfront: light_vectors (7674, 3)\n",
      "IN DL: light vec has norm of 1.0000000000000002\n",
      "In DL: image 130; light arealightup: light_vectors (7674, 3)\n",
      "IN DL: light vec has norm of 1.0000000000000002\n",
      "In DL: image 131; light arealightfront: light_vectors (11475, 3)\n",
      "IN DL: light vec has norm of 1.0000000000000002\n",
      "In DL: image 131; light arealightup: light_vectors (11475, 3)\n",
      "IN DL: light vec has norm of 1.0000000000000002\n",
      "In DL: image 132; light arealightfront: light_vectors (12748, 3)\n",
      "IN DL: light vec has norm of 1.0000000000000002\n",
      "In DL: image 132; light arealightup: light_vectors (12748, 3)\n",
      "IN DL: light vec has norm of 1.0000000000000002\n",
      "In DL: image 133; light arealightfront: light_vectors (8941, 3)\n",
      "IN DL: light vec has norm of 1.0000000000000002\n",
      "In DL: image 133; light arealightup: light_vectors (8941, 3)\n",
      "IN DL: light vec has norm of 1.0000000000000002\n"
     ]
    },
    {
     "name": "stderr",
     "output_type": "stream",
     "text": [
      "\r",
      "Loading dataset from chair_intrinsic/val:  96%|▉| 135/140 [00:07<00:00, 23.33it/s]"
     ]
    },
    {
     "name": "stdout",
     "output_type": "stream",
     "text": [
      "In DL: image 134; light arealightfront: light_vectors (11971, 3)\n",
      "IN DL: light vec has norm of 1.0000000000000002\n",
      "In DL: image 134; light arealightup: light_vectors (11971, 3)\n",
      "IN DL: light vec has norm of 1.0000000000000002\n"
     ]
    },
    {
     "name": "stderr",
     "output_type": "stream",
     "text": [
      "\r",
      "Loading dataset from chair_intrinsic/val:  99%|▉| 138/140 [00:07<00:00, 23.70it/s]"
     ]
    },
    {
     "name": "stdout",
     "output_type": "stream",
     "text": [
      "In DL: image 135; light arealightfront: light_vectors (10906, 3)\n",
      "IN DL: light vec has norm of 1.0000000000000002\n",
      "In DL: image 135; light arealightup: light_vectors (10906, 3)\n",
      "IN DL: light vec has norm of 1.0000000000000002\n",
      "In DL: image 136; light arealightfront: light_vectors (11360, 3)\n",
      "IN DL: light vec has norm of 1.0000000000000002\n",
      "In DL: image 136; light arealightup: light_vectors (11360, 3)\n",
      "IN DL: light vec has norm of 1.0000000000000002\n",
      "In DL: image 137; light arealightfront: light_vectors (11570, 3)\n",
      "IN DL: light vec has norm of 1.0000000000000002\n",
      "In DL: image 137; light arealightup: light_vectors (11570, 3)\n",
      "IN DL: light vec has norm of 1.0000000000000002\n",
      "In DL: image 138; light arealightfront: light_vectors (9145, 3)\n",
      "IN DL: light vec has norm of 1.0000000000000002\n",
      "In DL: image 138; light arealightup: light_vectors (9145, 3)\n",
      "IN DL: light vec has norm of 1.0000000000000002\n"
     ]
    },
    {
     "name": "stderr",
     "output_type": "stream",
     "text": [
      "\r",
      "Loading dataset from chair_intrinsic/val: 100%|█| 140/140 [00:07<00:00, 18.55it/s]"
     ]
    },
    {
     "name": "stdout",
     "output_type": "stream",
     "text": [
      "In DL: image 139; light arealightfront: light_vectors (11413, 3)\n",
      "IN DL: light vec has norm of 1.0000000000000002\n",
      "In DL: image 139; light arealightup: light_vectors (11413, 3)\n",
      "IN DL: light vec has norm of 1.0000000000000002\n"
     ]
    },
    {
     "name": "stderr",
     "output_type": "stream",
     "text": [
      "\n"
     ]
    },
    {
     "name": "stdout",
     "output_type": "stream",
     "text": [
      "Loaded validation dataset.\n"
     ]
    }
   ],
   "source": [
    "# Get the data\n",
    "batch_size = 1024\n",
    "train_dl = get_dataloader(batch_size=batch_size)\n",
    "print(\"Loaded train dataset.\")\n",
    "\n",
    "valid_dl = get_dataloader(batch_size=2*batch_size, split='val')\n",
    "print(\"Loaded validation dataset.\")"
   ]
  },
  {
   "cell_type": "code",
   "execution_count": 11,
   "id": "7cf8cddc",
   "metadata": {},
   "outputs": [
    {
     "name": "stderr",
     "output_type": "stream",
     "text": [
      "\u001b[34m\u001b[1mwandb\u001b[0m: Currently logged in as: \u001b[33mdtetruash\u001b[0m. Use \u001b[1m`wandb login --relogin`\u001b[0m to force relogin\n"
     ]
    },
    {
     "data": {
      "text/html": [
       "Tracking run with wandb version 0.15.10"
      ],
      "text/plain": [
       "<IPython.core.display.HTML object>"
      ]
     },
     "metadata": {},
     "output_type": "display_data"
    },
    {
     "data": {
      "text/html": [
       "Run data is saved locally in <code>/home/dtetruash/Thesis/intrinsic-light-estimation/light_mlp/wandb/run-20230912_220851-amlkejjk</code>"
      ],
      "text/plain": [
       "<IPython.core.display.HTML object>"
      ]
     },
     "metadata": {},
     "output_type": "display_data"
    },
    {
     "data": {
      "text/html": [
       "Syncing run <strong><a href='https://wandb.ai/dtetruash/light-mlp-supervised-cosine/runs/amlkejjk' target=\"_blank\">treasured-dream-64</a></strong> to <a href='https://wandb.ai/dtetruash/light-mlp-supervised-cosine' target=\"_blank\">Weights & Biases</a> (<a href='https://wandb.me/run' target=\"_blank\">docs</a>)<br/>"
      ],
      "text/plain": [
       "<IPython.core.display.HTML object>"
      ]
     },
     "metadata": {},
     "output_type": "display_data"
    },
    {
     "data": {
      "text/html": [
       " View project at <a href='https://wandb.ai/dtetruash/light-mlp-supervised-cosine' target=\"_blank\">https://wandb.ai/dtetruash/light-mlp-supervised-cosine</a>"
      ],
      "text/plain": [
       "<IPython.core.display.HTML object>"
      ]
     },
     "metadata": {},
     "output_type": "display_data"
    },
    {
     "data": {
      "text/html": [
       " View run at <a href='https://wandb.ai/dtetruash/light-mlp-supervised-cosine/runs/amlkejjk' target=\"_blank\">https://wandb.ai/dtetruash/light-mlp-supervised-cosine/runs/amlkejjk</a>"
      ],
      "text/plain": [
       "<IPython.core.display.HTML object>"
      ]
     },
     "metadata": {},
     "output_type": "display_data"
    }
   ],
   "source": [
    "# 🐝 initialise a wandb run\n",
    "# NOTE: The model checkpoint path should be to scratch on the cluster\n",
    "\n",
    "raster_config = rr.parse_config()\n",
    "\n",
    "current_run = wandb.init(\n",
    "    project=\"light-mlp-supervised-cosine\",\n",
    "    config={\n",
    "        \"epochs\": 5,\n",
    "        \"batch_size\": batch_size,\n",
    "        \"lr\": 1e-3,\n",
    "        \"dropout\": 0.0,  # random.uniform(0.01, 0.80),\n",
    "        \"num_feats\": 3,\n",
    "        \"hidden_channels\": [256]*4 + [128],\n",
    "        \"model_checkpoint_path\": 'model_checkpoints',\n",
    "        'model_trained_path': 'model_trained',\n",
    "        'scene': raster_config['paths']['scene']\n",
    "    })\n",
    "\n",
    "# Copy your config\n",
    "config = wandb.config\n",
    "\n",
    "# make output dirs\n",
    "if not os.path.exists(config.model_checkpoint_path):\n",
    "    os.makedirs(config.model_checkpoint_path)\n",
    "\n",
    "if not os.path.exists(config.model_trained_path):\n",
    "    os.makedirs(config.model_trained_path)\n",
    "\n",
    "n_steps_per_epoch = math.ceil(len(train_dl.dataset) / config.batch_size)"
   ]
  },
  {
   "cell_type": "code",
   "execution_count": 12,
   "id": "fb11a05b",
   "metadata": {},
   "outputs": [],
   "source": [
    "# MLP model\n",
    "model = LightMLP(config.num_feats, config.hidden_channels, dropout=config.dropout)"
   ]
  },
  {
   "cell_type": "code",
   "execution_count": 13,
   "id": "131c625a",
   "metadata": {},
   "outputs": [],
   "source": [
    "optimizer = torch.optim.Adam(model.parameters(), lr=config.lr)"
   ]
  },
  {
   "cell_type": "code",
   "execution_count": 14,
   "id": "35e0e9b3",
   "metadata": {},
   "outputs": [
    {
     "name": "stderr",
     "output_type": "stream",
     "text": [
      "\r",
      "Epoch:   0%|\u001b[32m                                                \u001b[0m| 0/5 [00:00<?, ?it/s]\u001b[0m"
     ]
    },
    {
     "name": "stdout",
     "output_type": "stream",
     "text": [
      "Training epoch 0\n"
     ]
    },
    {
     "name": "stderr",
     "output_type": "stream",
     "text": [
      "\n",
      "Step:   0%|\u001b[31m                                              \u001b[0m| 0/9312 [00:00<?, ?it/s]\u001b[0m\u001b[A\n",
      "                                                                                  \u001b[A"
     ]
    },
    {
     "name": "stdout",
     "output_type": "stream",
     "text": [
      "Validating model after epoch 0\n"
     ]
    },
    {
     "name": "stderr",
     "output_type": "stream",
     "text": [
      "\n",
      "Validating model:   0%|                                  | 0/4656 [00:00<?, ?it/s]\u001b[A\n"
     ]
    },
    {
     "name": "stdout",
     "output_type": "stream",
     "text": [
      "Done validating.\n",
      "Creating validation image.\n",
      "Generating OLAT validation image 18 with light arealightfront...\n"
     ]
    },
    {
     "name": "stderr",
     "output_type": "stream",
     "text": [
      "\r",
      "Epoch:  20%|\u001b[32m████████                                \u001b[0m| 1/5 [00:01<00:05,  1.41s/it]\u001b[0m"
     ]
    },
    {
     "name": "stdout",
     "output_type": "stream",
     "text": [
      "Train Loss: 0.000 Valid Loss: 0.000121\n",
      "Training epoch 1\n"
     ]
    },
    {
     "name": "stderr",
     "output_type": "stream",
     "text": [
      "\n",
      "Step:   0%|\u001b[31m                                              \u001b[0m| 0/9312 [00:00<?, ?it/s]\u001b[0m\u001b[A\n",
      "                                                                                  \u001b[A"
     ]
    },
    {
     "name": "stdout",
     "output_type": "stream",
     "text": [
      "Validating model after epoch 1\n"
     ]
    },
    {
     "name": "stderr",
     "output_type": "stream",
     "text": [
      "\n",
      "Validating model:   0%|                                  | 0/4656 [00:00<?, ?it/s]\u001b[A\n"
     ]
    },
    {
     "name": "stdout",
     "output_type": "stream",
     "text": [
      "Done validating.\n",
      "Creating validation image.\n",
      "Generating OLAT validation image 110 with light arealightfront...\n"
     ]
    },
    {
     "name": "stderr",
     "output_type": "stream",
     "text": [
      "\r",
      "Epoch:  40%|\u001b[32m████████████████                        \u001b[0m| 2/5 [00:02<00:03,  1.06s/it]\u001b[0m"
     ]
    },
    {
     "name": "stdout",
     "output_type": "stream",
     "text": [
      "Train Loss: 0.000 Valid Loss: 0.000047\n",
      "Training epoch 2\n"
     ]
    },
    {
     "name": "stderr",
     "output_type": "stream",
     "text": [
      "\n",
      "Step:   0%|\u001b[31m                                              \u001b[0m| 0/9312 [00:00<?, ?it/s]\u001b[0m\u001b[A\n",
      "                                                                                  \u001b[A"
     ]
    },
    {
     "name": "stdout",
     "output_type": "stream",
     "text": [
      "Validating model after epoch 2\n"
     ]
    },
    {
     "name": "stderr",
     "output_type": "stream",
     "text": [
      "\n",
      "Validating model:   0%|                                  | 0/4656 [00:00<?, ?it/s]\u001b[A\n"
     ]
    },
    {
     "name": "stdout",
     "output_type": "stream",
     "text": [
      "Done validating.\n",
      "Creating validation image.\n",
      "Generating OLAT validation image 43 with light arealightfront...\n",
      "Train Loss: 0.000 Valid Loss: 0.000029\n"
     ]
    },
    {
     "name": "stderr",
     "output_type": "stream",
     "text": [
      "\r",
      "Epoch:  60%|\u001b[32m████████████████████████                \u001b[0m| 3/5 [00:03<00:01,  1.07it/s]\u001b[0m"
     ]
    },
    {
     "name": "stdout",
     "output_type": "stream",
     "text": [
      "Training epoch 3\n"
     ]
    },
    {
     "name": "stderr",
     "output_type": "stream",
     "text": [
      "\n",
      "Step:   0%|\u001b[31m                                              \u001b[0m| 0/9312 [00:00<?, ?it/s]\u001b[0m\u001b[A\n",
      "                                                                                  \u001b[A"
     ]
    },
    {
     "name": "stdout",
     "output_type": "stream",
     "text": [
      "Validating model after epoch 3\n"
     ]
    },
    {
     "name": "stderr",
     "output_type": "stream",
     "text": [
      "\n",
      "Validating model:   0%|                                  | 0/4656 [00:00<?, ?it/s]\u001b[A\n",
      "Epoch:  80%|\u001b[32m████████████████████████████████        \u001b[0m| 4/5 [00:03<00:00,  1.14it/s]\u001b[0m"
     ]
    },
    {
     "name": "stdout",
     "output_type": "stream",
     "text": [
      "Done validating.\n",
      "Creating validation image.\n",
      "Generating OLAT validation image 46 with light arealightfront...\n",
      "Train Loss: 0.000 Valid Loss: 0.000023\n",
      "Training epoch 4\n"
     ]
    },
    {
     "name": "stderr",
     "output_type": "stream",
     "text": [
      "\n",
      "Step:   0%|\u001b[31m                                              \u001b[0m| 0/9312 [00:00<?, ?it/s]\u001b[0m\u001b[A\n",
      "                                                                                  \u001b[A"
     ]
    },
    {
     "name": "stdout",
     "output_type": "stream",
     "text": [
      "Validating model after epoch 4\n"
     ]
    },
    {
     "name": "stderr",
     "output_type": "stream",
     "text": [
      "\n",
      "Validating model:   0%|                                  | 0/4656 [00:00<?, ?it/s]\u001b[A\n",
      "Epoch: 100%|\u001b[32m████████████████████████████████████████\u001b[0m| 5/5 [00:04<00:00,  1.11it/s]\u001b[0m"
     ]
    },
    {
     "name": "stdout",
     "output_type": "stream",
     "text": [
      "Done validating.\n",
      "Creating validation image.\n",
      "Generating OLAT validation image 127 with light arealightup...\n",
      "Train Loss: 0.000 Valid Loss: 0.000025\n"
     ]
    },
    {
     "name": "stderr",
     "output_type": "stream",
     "text": [
      "\n"
     ]
    },
    {
     "data": {
      "text/html": [
       "Waiting for W&B process to finish... <strong style=\"color:green\">(success).</strong>"
      ],
      "text/plain": [
       "<IPython.core.display.HTML object>"
      ]
     },
     "metadata": {},
     "output_type": "display_data"
    },
    {
     "data": {
      "application/vnd.jupyter.widget-view+json": {
       "model_id": "310bc73466df42129a8815b0f1f75175",
       "version_major": 2,
       "version_minor": 0
      },
      "text/plain": [
       "VBox(children=(Label(value='4.731 MB of 6.335 MB uploaded (0.000 MB deduped)\\r'), FloatProgress(value=0.746898…"
      ]
     },
     "metadata": {},
     "output_type": "display_data"
    },
    {
     "data": {
      "text/html": [
       "<style>\n",
       "    table.wandb td:nth-child(1) { padding: 0 10px; text-align: left ; width: auto;} td:nth-child(2) {text-align: left ; width: 100%}\n",
       "    .wandb-row { display: flex; flex-direction: row; flex-wrap: wrap; justify-content: flex-start; width: 100% }\n",
       "    .wandb-col { display: flex; flex-direction: column; flex-basis: 100%; flex: 1; padding: 10px; }\n",
       "    </style>\n",
       "<div class=\"wandb-row\"><div class=\"wandb-col\"><h3>Run history:</h3><br/><table class=\"wandb\"><tr><td>train/avg_loss</td><td>█▃▁▁▁</td></tr><tr><td>train/epoch</td><td>▁▃▄▆█</td></tr><tr><td>train/train_loss</td><td>█▃▁▁▁</td></tr><tr><td>val/val_loss</td><td>█▃▁▁▁</td></tr></table><br/></div><div class=\"wandb-col\"><h3>Run summary:</h3><br/><table class=\"wandb\"><tr><td>train/avg_loss</td><td>3e-05</td></tr><tr><td>train/epoch</td><td>4.00011</td></tr><tr><td>train/train_loss</td><td>0.25038</td></tr><tr><td>val/val_loss</td><td>3e-05</td></tr></table><br/></div></div>"
      ],
      "text/plain": [
       "<IPython.core.display.HTML object>"
      ]
     },
     "metadata": {},
     "output_type": "display_data"
    },
    {
     "data": {
      "text/html": [
       " View run <strong style=\"color:#cdcd00\">treasured-dream-64</strong> at: <a href='https://wandb.ai/dtetruash/light-mlp-supervised-cosine/runs/amlkejjk' target=\"_blank\">https://wandb.ai/dtetruash/light-mlp-supervised-cosine/runs/amlkejjk</a><br/> View job at <a href='https://wandb.ai/dtetruash/light-mlp-supervised-cosine/jobs/QXJ0aWZhY3RDb2xsZWN0aW9uOjk2MTYyMzQ1/version_details/v10' target=\"_blank\">https://wandb.ai/dtetruash/light-mlp-supervised-cosine/jobs/QXJ0aWZhY3RDb2xsZWN0aW9uOjk2MTYyMzQ1/version_details/v10</a><br/>Synced 6 W&B file(s), 5 media file(s), 2 artifact file(s) and 2 other file(s)"
      ],
      "text/plain": [
       "<IPython.core.display.HTML object>"
      ]
     },
     "metadata": {},
     "output_type": "display_data"
    },
    {
     "data": {
      "text/html": [
       "Find logs at: <code>./wandb/run-20230912_220851-amlkejjk/logs</code>"
      ],
      "text/plain": [
       "<IPython.core.display.HTML object>"
      ]
     },
     "metadata": {},
     "output_type": "display_data"
    }
   ],
   "source": [
    "# Training\n",
    "for epoch in tqdm(range(config.epochs),\n",
    "                  desc=\"Epoch\",\n",
    "                  total=config.epochs,\n",
    "                  position=0, leave=True, colour='green'):\n",
    "    model.train()\n",
    "\n",
    "    # Train an epoch\n",
    "    print(f\"Training epoch {epoch}\")\n",
    "    avg_train_loss = train_epoch(epoch, train_dl, model, cosine_similarity_loss_func)\n",
    "    wandb.log({\"train/avg_loss\": avg_train_loss})\n",
    "\n",
    "    # Validation\n",
    "    print(f\"Validating model after epoch {epoch}\")\n",
    "    val_loss = validate_model(model, valid_dl, cosine_similarity_loss_func)\n",
    "    print(\"Done validating.\")\n",
    "\n",
    "    # Render a validation image\n",
    "    print(\"Creating validation image.\")\n",
    "    val_image_array, image_caption = generate_validation_image(model, valid_dl.dataset)\n",
    "    # val_image = PILImage.fromarray(val_image_array, mode=\"RGB\")\n",
    "    # print(f\"image type {type(val_image)}\")\n",
    "    # val_image.save(f\"validation_image_{epoch:03}.png\")\n",
    "\n",
    "    val_image = wandb.Image(val_image_array, caption=image_caption)\n",
    "    # 🐝 Log train and validation metrics to wandb\n",
    "    val_metrics = {\"val/val_loss\": val_loss,\n",
    "                   \"val/images\": val_image}\n",
    "    wandb.log(val_metrics)\n",
    "\n",
    "    print(f\"Train Loss: {avg_train_loss:.3f} Valid Loss: {val_loss:3f}\")\n",
    "\n",
    "    to_save = {\n",
    "        'model_state_dict': model.state_dict(),\n",
    "        'optimized_state_dict': optimizer.state_dict(),\n",
    "        'epoch': epoch,\n",
    "        'lr': config.lr,\n",
    "        \"dropout\": config.dropout,\n",
    "        \"num_feats\": config.num_feats,\n",
    "        \"hidden_channels\": config.hidden_channels,\n",
    "\n",
    "    }\n",
    "    # save the model and upload it to wandb\n",
    "    if epoch + 1 == config.epochs:\n",
    "        # save trained model\n",
    "        trained_file = f\"{config.model_trained_path}/{current_run.project}_{current_run.name}.pth\"\n",
    "        torch.save(to_save, trained_file)\n",
    "        wandb.save(trained_file, policy='now')\n",
    "    else:\n",
    "        # save checkpoint\n",
    "        check_point_file = f\"{config.model_checkpoint_path}/{current_run.project}_{current_run.name}_ckpt.pth\"\n",
    "        torch.save(to_save, check_point_file)\n",
    "        wandb.save(check_point_file, policy='live')\n",
    "\n",
    "\n",
    "# 🐝 Close your wandb run\n",
    "wandb.finish()"
   ]
  },
  {
   "cell_type": "code",
   "execution_count": null,
   "id": "798b9e5f",
   "metadata": {},
   "outputs": [],
   "source": [
    "model"
   ]
  }
 ],
 "metadata": {
  "kernelspec": {
   "display_name": "Python 3 (ipykernel)",
   "language": "python",
   "name": "python3"
  },
  "language_info": {
   "codemirror_mode": {
    "name": "ipython",
    "version": 3
   },
   "file_extension": ".py",
   "mimetype": "text/x-python",
   "name": "python",
   "nbconvert_exporter": "python",
   "pygments_lexer": "ipython3",
   "version": "3.10.12"
  }
 },
 "nbformat": 4,
 "nbformat_minor": 5
}
