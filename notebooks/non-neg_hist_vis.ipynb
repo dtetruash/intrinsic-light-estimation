{
 "cells": [
  {
   "cell_type": "code",
   "execution_count": null,
   "id": "75f5195b-3960-4f78-bfdd-6bbcc4009a2c",
   "metadata": {},
   "outputs": [],
   "source": [
    "import numpy as np\n",
    "import matplotlib.pyplot as plt\n",
    "from matplotlib.ticker import FuncFormatter"
   ]
  },
  {
   "cell_type": "code",
   "execution_count": null,
   "id": "f2e18f57-1ca6-4ff0-ae0e-fa6a896945f4",
   "metadata": {},
   "outputs": [],
   "source": [
    "# Generate some sample data (replace this with your actual data)\n",
    "data = np.random.randn(1000)  # Example data, including values below 0"
   ]
  },
  {
   "cell_type": "code",
   "execution_count": null,
   "id": "1f162759-44a4-4503-b2de-b32457e7a6f1",
   "metadata": {},
   "outputs": [],
   "source": [
    "# Set the number of bins above and below zero\n",
    "bins_above_zero = 10  # Adjust this number as needed\n",
    "bins_below_zero = 5  # Adjust this number as needed\n",
    "\n",
    "# Calculate the bin width based on the desired number of bins\n",
    "bin_width = max(data) / bins_above_zero\n",
    "\n",
    "# Calculate the custom bin edges\n",
    "bins_below = np.arange(-bin_width * bins_below_zero, 0, bin_width)[::-1]\n",
    "bins_above = np.arange(0, bin_width * bins_above_zero, bin_width)\n",
    "bins = np.concatenate([bins_below, bins_above])"
   ]
  },
  {
   "cell_type": "code",
   "execution_count": null,
   "id": "3f477c30-53d8-4c7b-9bb4-59915371b51e",
   "metadata": {},
   "outputs": [],
   "source": [
    "# Create a subplot with a handle for the figure\n",
    "fig, ax = plt.subplots()\n",
    "\n",
    "# Create the histogram\n",
    "ax.hist(data, bins=bins, edgecolor='black')\n",
    "\n",
    "# Set x-ticks to coincide with bin edges and customize zero tick\n",
    "xticks = bins.copy()\n",
    "zero_tick_index = np.argmax(xticks >= 0)\n",
    "xticks[zero_tick_index] = 0  # Replace the tick value at the zero index\n",
    "ax.set_xticks(xticks)\n",
    "\n",
    "# Customize tick formatting, setting three decimal places for all except zero\n",
    "def format_ticks(x, pos):\n",
    "    if x == 0:\n",
    "        return '0'  # Custom formatting for zero\n",
    "    else:\n",
    "        return '{:.3f}'.format(x)\n",
    "\n",
    "formatter = FuncFormatter(format_ticks)\n",
    "ax.xaxis.set_major_formatter(formatter)\n",
    "\n",
    "# Set labels and title\n",
    "ax.set_xlabel('Values')\n",
    "ax.set_ylabel('Frequency')\n",
    "ax.set_title('Histogram with Custom Bins')\n",
    "\n",
    "# Show the plot\n",
    "plt.show()"
   ]
  }
 ],
 "metadata": {
  "kernelspec": {
   "display_name": "Python 3 (ipykernel)",
   "language": "python",
   "name": "python3"
  },
  "language_info": {
   "codemirror_mode": {
    "name": "ipython",
    "version": 3
   },
   "file_extension": ".py",
   "mimetype": "text/x-python",
   "name": "python",
   "nbconvert_exporter": "python",
   "pygments_lexer": "ipython3",
   "version": "3.10.12"
  }
 },
 "nbformat": 4,
 "nbformat_minor": 5
}
