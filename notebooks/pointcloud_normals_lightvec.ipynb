{
 "cells": [
  {
   "cell_type": "markdown",
   "id": "730ff17c",
   "metadata": {},
   "source": [
    "## Draw point cloud with normals and light vectors at each point"
   ]
  },
  {
   "cell_type": "code",
   "execution_count": 37,
   "id": "7e609c86",
   "metadata": {},
   "outputs": [],
   "source": [
    "import raster_relight as rr\n",
    "import json\n",
    "import numpy as np\n",
    "import open3d as o3d\n",
    "from matplotlib import pyplot as plt"
   ]
  },
  {
   "cell_type": "code",
   "execution_count": 3,
   "id": "69de7a45",
   "metadata": {},
   "outputs": [],
   "source": [
    "# Recreate the raster rendering function step-by-step"
   ]
  },
  {
   "cell_type": "code",
   "execution_count": 4,
   "id": "2ed8f473",
   "metadata": {},
   "outputs": [
    {
     "name": "stdout",
     "output_type": "stream",
     "text": [
      "Reading config from config.ini\n"
     ]
    }
   ],
   "source": [
    "config = rr.parse_config()"
   ]
  },
  {
   "cell_type": "code",
   "execution_count": 7,
   "id": "63797470",
   "metadata": {},
   "outputs": [],
   "source": [
    "with open(config['paths']['transforms_file'], 'r') as tf:\n",
    "    image_transforms = json.loads(tf.read())"
   ]
  },
  {
   "cell_type": "code",
   "execution_count": 8,
   "id": "2c297f71",
   "metadata": {},
   "outputs": [],
   "source": [
    "image_number = int(config['images']['image_number'])"
   ]
  },
  {
   "cell_type": "code",
   "execution_count": 10,
   "id": "868aa615",
   "metadata": {},
   "outputs": [
    {
     "name": "stdout",
     "output_type": "stream",
     "text": [
      "Bit depth used for depth remapping was 8\n"
     ]
    }
   ],
   "source": [
    "# Loading Images\n",
    "W, H, images, image_normal, image_rgbd = rr.load_images(\n",
    "    image_number,\n",
    "    channels=['albedo', 'depth', 'normal'])"
   ]
  },
  {
   "cell_type": "code",
   "execution_count": 11,
   "id": "82b23da6",
   "metadata": {},
   "outputs": [],
   "source": [
    "# Loading Lights and Light Transforms\n",
    "with open(config['paths']['lights_file'], 'r') as lf:\n",
    "    lights_info = json.loads(lf.read())"
   ]
  },
  {
   "cell_type": "code",
   "execution_count": 12,
   "id": "76b55bd4",
   "metadata": {},
   "outputs": [
    {
     "name": "stdout",
     "output_type": "stream",
     "text": [
      "Loaded /home/dtetruash/Thesis/datasets/nerf-blender/nerf_synthetic/intrinsic_tester_sphere/lights_intrinsic_tester_sphere.json. Number of lights is 9\n"
     ]
    }
   ],
   "source": [
    "print(f\"Loaded {config['paths']['lights_file']}. Number of lights is {len(lights_info['lights'])}\")"
   ]
  },
  {
   "cell_type": "code",
   "execution_count": 17,
   "id": "758c7df0",
   "metadata": {},
   "outputs": [],
   "source": [
    "light_transforms = {light['name_light'].lower(): np.array(light['transformation_matrix']) for light in lights_info['lights']}\n",
    "light_locations = {name: rr.to_translation(transform) for (name, transform) in light_transforms.items()}"
   ]
  },
  {
   "cell_type": "code",
   "execution_count": 20,
   "id": "b5d03868",
   "metadata": {},
   "outputs": [
    {
     "name": "stdout",
     "output_type": "stream",
     "text": [
      "det(R) = 1.0000000311834887\n",
      "R^T @ R =\n",
      "[[ 1.00000007e+00 -2.90236812e-08  8.29079916e-09]\n",
      " [-2.90236812e-08  1.00000000e+00 -3.13000683e-08]\n",
      " [ 8.29079916e-09 -3.13000683e-08  9.99999986e-01]]\n"
     ]
    }
   ],
   "source": [
    "# Compute Camera Parameters\n",
    "intrinsics, c2w, R, T = rr.get_camera_parameters(W, H,\n",
    "                                              image_transforms[\"camera_angle_x\"],\n",
    "                                              image_number,\n",
    "                                              image_transforms)\n",
    "rr.check_rotation(R)"
   ]
  },
  {
   "cell_type": "code",
   "execution_count": 21,
   "id": "3ce90a89",
   "metadata": {},
   "outputs": [
    {
     "name": "stdout",
     "output_type": "stream",
     "text": [
      "Using the following intrinsics matrix:\n",
      "K = \n",
      "[[1.11111103e+03 0.00000000e+00 4.00000000e+02]\n",
      " [0.00000000e+00 1.11111103e+03 4.00000000e+02]\n",
      " [0.00000000e+00 0.00000000e+00 1.00000000e+00]]\n"
     ]
    }
   ],
   "source": [
    "print(\"Using the following intrinsics matrix:\")\n",
    "print(\"K = \")\n",
    "print(intrinsics.intrinsic_matrix)"
   ]
  },
  {
   "cell_type": "code",
   "execution_count": 23,
   "id": "50e455e0",
   "metadata": {},
   "outputs": [
    {
     "name": "stdout",
     "output_type": "stream",
     "text": [
      "There are 263345 points with finite depth in the image.\n"
     ]
    }
   ],
   "source": [
    "# ## Creating Point Cloud\n",
    "occupied_mask = rr.get_occupancy(np.asarray(images['depth']))\n",
    "print(f\"There are {occupied_mask.sum()} points with finite depth in the image.\")"
   ]
  },
  {
   "cell_type": "code",
   "execution_count": 31,
   "id": "b5b1af84",
   "metadata": {},
   "outputs": [
    {
     "data": {
      "text/plain": [
       "PointCloud with 640000 points."
      ]
     },
     "execution_count": 31,
     "metadata": {},
     "output_type": "execute_result"
    }
   ],
   "source": [
    "# ### Using Open3D RGBD + Point Cloud\n",
    "pcd = o3d.geometry.PointCloud.create_from_rgbd_image(\n",
    "    image_rgbd,\n",
    "    o3d.camera.PinholeCameraIntrinsic(intrinsics)\n",
    ")\n",
    "\n",
    "# Flip it, otherwise the pointcloud will be upside down\n",
    "pcd.transform(\n",
    "    [[1, 0, 0, 0],\n",
    "     [0, -1, 0, 0],\n",
    "     [0, 0, -1, 0],\n",
    "     [0, 0, 0, 1]])\n",
    "\n",
    "# Pose the point cloud with the camera transform\n",
    "pcd.transform(c2w)\n"
   ]
  },
  {
   "cell_type": "code",
   "execution_count": 35,
   "id": "1065079b",
   "metadata": {},
   "outputs": [],
   "source": [
    "o3d.visualization.draw_geometries([pcd])"
   ]
  },
  {
   "cell_type": "code",
   "execution_count": 40,
   "id": "7f62172d",
   "metadata": {},
   "outputs": [
    {
     "data": {
      "text/plain": [
       "1.9764706"
      ]
     },
     "execution_count": 40,
     "metadata": {},
     "output_type": "execute_result"
    }
   ],
   "source": []
  },
  {
   "cell_type": "code",
   "execution_count": null,
   "id": "83fcbe33",
   "metadata": {},
   "outputs": [],
   "source": [
    "# Get Normals\n",
    "camera_normals = get_camera_space_normals(image_normal) * occupied_mask[..., np.newaxis]\n",
    "world_normals = get_world_space_normals(camera_normals, R)"
   ]
  }
 ],
 "metadata": {
  "kernelspec": {
   "display_name": "Python 3 (ipykernel)",
   "language": "python",
   "name": "python3"
  },
  "language_info": {
   "codemirror_mode": {
    "name": "ipython",
    "version": 3
   },
   "file_extension": ".py",
   "mimetype": "text/x-python",
   "name": "python",
   "nbconvert_exporter": "python",
   "pygments_lexer": "ipython3",
   "version": "3.10.12"
  }
 },
 "nbformat": 4,
 "nbformat_minor": 5
}
