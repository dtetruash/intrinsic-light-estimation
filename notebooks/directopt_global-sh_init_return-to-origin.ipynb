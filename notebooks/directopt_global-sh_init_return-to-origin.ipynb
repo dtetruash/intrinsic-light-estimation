{
 "cells": [
  {
   "cell_type": "code",
   "execution_count": 1,
   "id": "2f294861",
   "metadata": {},
   "outputs": [
    {
     "data": {
      "text/plain": [
       "<bound method InteractiveShell.excepthook of <ipykernel.zmqshell.ZMQInteractiveShell object at 0x7f9e102496c0>>"
      ]
     },
     "execution_count": 1,
     "metadata": {},
     "output_type": "execute_result"
    }
   ],
   "source": [
    "import numpy as np\n",
    "import pandas as pd\n",
    "from matplotlib import pyplot as plt\n",
    "from rich.traceback import install as install_traceback\n",
    "\n",
    "install_traceback()"
   ]
  },
  {
   "cell_type": "code",
   "execution_count": 82,
   "id": "5c5e04e1",
   "metadata": {},
   "outputs": [],
   "source": [
    "# Set for latex font and setting\n",
    "import matplotlib\n",
    "matplotlib.use(\"pgf\")\n",
    "matplotlib.rcParams.update({\n",
    "    \"pgf.texsystem\": \"pdflatex\",\n",
    "    'font.family': 'serif',\n",
    "    'text.usetex': True,\n",
    "    'pgf.rcfonts': False,\n",
    "})"
   ]
  },
  {
   "cell_type": "markdown",
   "id": "5eabe230",
   "metadata": {},
   "source": [
    "# Load in the data"
   ]
  },
  {
   "cell_type": "code",
   "execution_count": 2,
   "id": "3651aa35",
   "metadata": {},
   "outputs": [],
   "source": [
    "\n",
    "import glob"
   ]
  },
  {
   "cell_type": "code",
   "execution_count": 3,
   "id": "4e6c0b8b",
   "metadata": {},
   "outputs": [],
   "source": [
    "exp_data_path = '../experiment_data/direct-opt-global-INIT_FAIL_PERTUBATIONS_return-to-origin'\n",
    "exp_data_file_name = 'coeff_evo_fail_creepy-incantation-7_purtstr1_run*.csv'\n",
    "file_paths = glob.glob(f'{exp_data_path}/{exp_data_file_name}')\n",
    "\n"
   ]
  },
  {
   "cell_type": "code",
   "execution_count": 6,
   "id": "d434e549",
   "metadata": {},
   "outputs": [],
   "source": [
    "# Create an empty dictionary to store dataframes for each lineKey\n",
    "linekey_dataframes = {}\n",
    "\n",
    "# Load and process each CSV file\n",
    "for run_i, file_path in enumerate(file_paths):\n",
    "    # Load CSV file into a pandas dataframe\n",
    "    df = pd.read_csv(file_path)\n",
    "    step_col = df['step']\n",
    "\n",
    "    # Iterate over each unique value in the 'linekey' column\n",
    "    for linekey in df['lineKey'].unique():\n",
    "        # Create a dataframe for the current lineKey if not already present\n",
    "        if linekey not in linekey_dataframes:\n",
    "            linekey_dataframes[linekey] = pd.DataFrame()\n",
    "            linekey_dataframes[linekey]['step'] = df[df['lineKey'] == linekey]['step']\n",
    "\n",
    "        # Filter the original dataframe for the current linekey\n",
    "        line_df = df[df['lineKey'] == linekey]\n",
    "\n",
    "        # Add 'lineval' column to the dataframe\n",
    "        linekey_dataframes[linekey][f'lineVal_run{run_i}'] = line_df['lineVal']\n",
    "    \n",
    "    # Iterate over each lineKey dataframe and calculate mean, min, max\n",
    "    for linekey, df in linekey_dataframes.items():\n",
    "\n",
    "        # Calculate mean, min, and max for 'lineval' columns\n",
    "        linekey_dataframes[linekey]['lineVal_mean'] = df.filter(like='lineVal').mean(axis=1)\n",
    "        linekey_dataframes[linekey]['lineVal_min'] = df.filter(like='lineVal').min(axis=1)\n",
    "        linekey_dataframes[linekey]['lineVal_max'] = df.filter(like='lineVal').max(axis=1)\n"
   ]
  },
  {
   "cell_type": "markdown",
   "id": "2e14ad8f",
   "metadata": {},
   "source": [
    "# Plot the lines"
   ]
  },
  {
   "cell_type": "code",
   "execution_count": 77,
   "id": "618e04c5",
   "metadata": {},
   "outputs": [],
   "source": [
    "import seaborn as sns\n",
    "from matplotlib.patches import Rectangle\n",
    "likekey_palette = sns.color_palette('husl', n_colors=len(linekey_dataframes))"
   ]
  },
  {
   "cell_type": "code",
   "execution_count": 83,
   "id": "e1bbdd02",
   "metadata": {},
   "outputs": [
    {
     "name": "stderr",
     "output_type": "stream",
     "text": [
      "/tmp/ipykernel_23754/601919782.py:41: UserWarning: FigureCanvasPgf is non-interactive, and thus cannot be shown\n",
      "  plt.show()\n"
     ]
    }
   ],
   "source": [
    "df = linekey_dataframes[linekey]\n",
    "\n",
    "# Plot line\n",
    "ax = plt.axes()\n",
    "for i, (linekey, df) in enumerate(linekey_dataframes.items()):\n",
    "    line_color = likekey_palette[i]\n",
    "    area_color = sns.desaturate(line_color, 0.5)\n",
    "    ax.plot(df['step'], df['lineVal_mean'],label='$\\mathbf{L}_%d$'%i, color=line_color, linewidth=1)\n",
    "    ax.fill_between(df['step'], df['lineVal_min'], df['lineVal_max'], color=area_color, alpha=0.2)\n",
    "\n",
    "    \n",
    "# zoom around origin\n",
    "# Add an inset plot (picture-in-picture) for zoomed version around (0.2, 0)\n",
    "axins = plt.axes([0.62, 0.16, 0.25, 0.25])  # [x, y, width, height]\n",
    "for i, (linekey, df) in enumerate(linekey_dataframes.items()):\n",
    "    line_color = likekey_palette[i]\n",
    "    area_color = sns.desaturate(line_color, 0.5)\n",
    "    axins.plot(df['step'], df['lineVal_mean'], color=line_color)\n",
    "    axins.fill_between(df['step'], df['lineVal_min'], df['lineVal_max'], color=area_color, alpha=0.2)\n",
    "\n",
    "axins.set_xlim(0.15, 0.25)\n",
    "axins.set_ylim(-0.1, 0.1)\n",
    "axins.tick_params(axis='both', which='both', labelsize=8)\n",
    "    \n",
    "    \n",
    "# zero line\n",
    "ax.axhline(y=0, color='black', linestyle='--', linewidth=0.5)\n",
    "axins.axhline(y=0, color='black', linestyle='--', linewidth=1, alpha=0.5)\n",
    "\n",
    "# Set up axis\n",
    "ax.set_xlabel('Epoch')\n",
    "ax.set_ylabel('$\\mathbf{L}_i$')\n",
    "ax.set_xlim(0,1)\n",
    "ax.set_ylim(-1,1)\n",
    "\n",
    "# Draw a rectangle around the zoomed-in area in the original axes\n",
    "rect = Rectangle((0.15, -0.1), 0.1, 0.2, linewidth=1, edgecolor='red', facecolor='none')\n",
    "ax.add_patch(rect)\n",
    "\n",
    "ax.legend(loc='upper right', ncol=3, markerscale=1.5, fancybox=True, edgecolor='black')\n",
    "plt.show()"
   ]
  },
  {
   "cell_type": "code",
   "execution_count": 84,
   "id": "c86547e3",
   "metadata": {},
   "outputs": [],
   "source": [
    "# Save figure\n",
    "output_dir = \"/home/dtetruash/Thesis/report/figures/direct_opt\"\n"
   ]
  },
  {
   "cell_type": "code",
   "execution_count": 85,
   "id": "491b6574",
   "metadata": {},
   "outputs": [],
   "source": [
    "plt.savefig(f'{output_dir}/sh_init_non-neg_return-to-origin.pgf')"
   ]
  },
  {
   "cell_type": "code",
   "execution_count": null,
   "id": "493fe48b",
   "metadata": {},
   "outputs": [],
   "source": []
  }
 ],
 "metadata": {
  "kernelspec": {
   "display_name": "Python 3 (ipykernel)",
   "language": "python",
   "name": "python3"
  },
  "language_info": {
   "codemirror_mode": {
    "name": "ipython",
    "version": 3
   },
   "file_extension": ".py",
   "mimetype": "text/x-python",
   "name": "python",
   "nbconvert_exporter": "python",
   "pygments_lexer": "ipython3",
   "version": "3.10.12"
  }
 },
 "nbformat": 4,
 "nbformat_minor": 5
}
