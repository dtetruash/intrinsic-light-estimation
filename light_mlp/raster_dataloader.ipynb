{
 "cells": [
  {
   "cell_type": "markdown",
   "id": "f46c0b7e",
   "metadata": {},
   "source": [
    "### Test the raster image dataloader"
   ]
  },
  {
   "cell_type": "code",
   "execution_count": 2,
   "id": "9a70e701",
   "metadata": {},
   "outputs": [
    {
     "name": "stdout",
     "output_type": "stream",
     "text": [
      "Jupyter environment detected. Enabling Open3D WebVisualizer.\n",
      "[Open3D INFO] WebRTC GUI backend enabled.\n",
      "[Open3D INFO] WebRTCWindowSystem: HTTP handshake server disabled.\n"
     ]
    }
   ],
   "source": [
    "import torch\n",
    "from torch.utils.data import Dataset, DataLoader \n",
    "import numpy as np\n",
    "import raster_relight as rr\n",
    "import raster_dataloader as rd\n",
    "import open3d as o3d\n",
    "from matplotlib import pyplot as plt"
   ]
  },
  {
   "cell_type": "code",
   "execution_count": 3,
   "id": "94b18cd1",
   "metadata": {
    "scrolled": true
   },
   "outputs": [
    {
     "name": "stdout",
     "output_type": "stream",
     "text": [
      "loading combined from /home/dtetruash/Thesis/datasets/nerf-blender/nerf_synthetic/intrinsic_tester_sphere/r_000_combined.png\n",
      "loading normal from /home/dtetruash/Thesis/datasets/nerf-blender/nerf_synthetic/intrinsic_tester_sphere/r_000_normal.png\n",
      "loading albedo from /home/dtetruash/Thesis/datasets/nerf-blender/nerf_synthetic/intrinsic_tester_sphere/r_000_albedo.png\n",
      "loading depth from /home/dtetruash/Thesis/datasets/nerf-blender/nerf_synthetic/intrinsic_tester_sphere/r_000_depth.png\n",
      "Bit depth used for depth remapping was 8\n",
      "Occumpancy mask of shape (800, 800), and with 263345 occupied pixels.\n",
      "Normal pixels range from 0 to 65535\n",
      "Normals pixels shape: (263345, 3)\n",
      "world_normals_shape after posing: (3, 263345)\n",
      "world_normals shape after reshaping to camera_normals.shape: (263345, 3)\n",
      "Posed_points shape in porject func: (640000, 3)\n",
      "posed_points returned by rr has shape (640000, 3)\n",
      "Loaded /home/dtetruash/Thesis/datasets/nerf-blender/nerf_synthetic/intrinsic_tester_sphere/lights_intrinsic_tester_sphere.json. Number of lights is 9\n",
      "output shape is (263345,)\n",
      "shapes: l_v:[[-1.23228284  1.70463384  3.08346335]\n",
      " [-1.22806497  1.70766711  3.08346335]\n",
      " [-1.21226141  1.6945417   3.05785176]\n",
      " ...\n",
      " [ 0.3932653  -0.53799909  4.23618878]\n",
      " [ 0.39746024 -0.5349823   4.23618878]\n",
      " [ 0.40165518 -0.53196552  4.23618878]], l_l : (3,), p_p : (263345, 3)\n"
     ]
    }
   ],
   "source": [
    "ds = rd.RasterDataset()"
   ]
  },
  {
   "cell_type": "code",
   "execution_count": 4,
   "id": "d7a724fb",
   "metadata": {},
   "outputs": [
    {
     "data": {
      "text/plain": [
       "263345"
      ]
     },
     "execution_count": 4,
     "metadata": {},
     "output_type": "execute_result"
    }
   ],
   "source": [
    "dataset_list = list(ds)\n",
    "len(dataset_list)"
   ]
  },
  {
   "cell_type": "code",
   "execution_count": 5,
   "id": "a7169fed",
   "metadata": {},
   "outputs": [],
   "source": [
    "normal = [sample[0] for sample in dataset_list]\n",
    "albedo = [sample[1] for sample in dataset_list]\n",
    "raster = [sample[2] for sample in dataset_list]\n"
   ]
  },
  {
   "cell_type": "code",
   "execution_count": 6,
   "id": "459b9aef",
   "metadata": {},
   "outputs": [
    {
     "name": "stdout",
     "output_type": "stream",
     "text": [
      "skipping\n"
     ]
    }
   ],
   "source": [
    "%%script echo skipping\n",
    "albedo_img = np.ones((800,800,3)) * 255\n",
    "albedo_img[ds._occupancy_mask] = np.array(albedo)\n",
    "plt.imshow(albedo_img.astype(np.uint8))"
   ]
  },
  {
   "cell_type": "code",
   "execution_count": 7,
   "id": "5c39b6ea",
   "metadata": {},
   "outputs": [
    {
     "name": "stdout",
     "output_type": "stream",
     "text": [
      "skipping\n"
     ]
    }
   ],
   "source": [
    "%%script echo skipping\n",
    "raster_img = np.ones((800,800,3)) * 255\n",
    "raster_img[ds._occupancy_mask] = np.array(raster)\n",
    "plt.imshow(raster_img.astype(np.uint8))"
   ]
  },
  {
   "cell_type": "code",
   "execution_count": 8,
   "id": "227d2b7f",
   "metadata": {},
   "outputs": [
    {
     "name": "stdout",
     "output_type": "stream",
     "text": [
      "skipping\n"
     ]
    }
   ],
   "source": [
    "%%script echo skipping\n",
    "normal_img = np.ones((800,800,3)) \n",
    "normal_img[ds._occupancy_mask] = (np.array(normal) * 0.5 + 0.5) \n",
    "plt.imshow(normal_img)"
   ]
  },
  {
   "cell_type": "markdown",
   "id": "27c22d7b",
   "metadata": {},
   "source": [
    "### Make sure the normals and light vectors are well aligned"
   ]
  },
  {
   "cell_type": "code",
   "execution_count": 17,
   "id": "a78d9b5a",
   "metadata": {},
   "outputs": [],
   "source": [
    "pcd = ds._pcd"
   ]
  },
  {
   "cell_type": "code",
   "execution_count": 125,
   "id": "f29cc801",
   "metadata": {},
   "outputs": [],
   "source": [
    "downpcd = pcd.voxel_down_sample(voxel_size=0.2)"
   ]
  },
  {
   "cell_type": "code",
   "execution_count": 126,
   "id": "1dffe3f6",
   "metadata": {},
   "outputs": [],
   "source": [
    "o3d.visualization.draw_geometries([downpcd])"
   ]
  },
  {
   "cell_type": "code",
   "execution_count": 127,
   "id": "39d98725",
   "metadata": {},
   "outputs": [],
   "source": [
    "# make line set to the light point."
   ]
  },
  {
   "cell_type": "code",
   "execution_count": 128,
   "id": "c74519a7",
   "metadata": {},
   "outputs": [
    {
     "data": {
      "text/plain": [
       "390"
      ]
     },
     "execution_count": 128,
     "metadata": {},
     "output_type": "execute_result"
    }
   ],
   "source": [
    "downpcd_points = np.asarray(downpcd.points)\n",
    "len(downpcd_points)"
   ]
  },
  {
   "cell_type": "code",
   "execution_count": 129,
   "id": "a59c00f9",
   "metadata": {},
   "outputs": [
    {
     "data": {
      "text/plain": [
       "(263345, 3)"
      ]
     },
     "execution_count": 129,
     "metadata": {},
     "output_type": "execute_result"
    }
   ],
   "source": [
    "pcd_points = np.asarray(ds._pcd.points)\n",
    "pcd_points.shape"
   ]
  },
  {
   "cell_type": "code",
   "execution_count": 168,
   "id": "78a7858a",
   "metadata": {},
   "outputs": [],
   "source": [
    "step = 26"
   ]
  },
  {
   "cell_type": "code",
   "execution_count": 173,
   "id": "1b1988b9",
   "metadata": {},
   "outputs": [
    {
     "data": {
      "text/plain": [
       "(20258, 3)"
      ]
     },
     "execution_count": 173,
     "metadata": {},
     "output_type": "execute_result"
    }
   ],
   "source": [
    "ls_points = np.array([(i ,i + l*n) for (i,l,n) in zip(pcd_points, ds._light_vecs, ds._light_vecs_norms)][::step]).reshape(-1,3)\n",
    "ls_points.shape"
   ]
  },
  {
   "cell_type": "code",
   "execution_count": 193,
   "id": "bd69d72c",
   "metadata": {},
   "outputs": [
    {
     "data": {
      "text/plain": [
       "array([[0., 0., 2.],\n",
       "       [0., 0., 2.],\n",
       "       [0., 0., 2.],\n",
       "       ...,\n",
       "       [0., 0., 2.],\n",
       "       [0., 0., 2.],\n",
       "       [0., 0., 2.]])"
      ]
     },
     "execution_count": 193,
     "metadata": {},
     "output_type": "execute_result"
    }
   ],
   "source": [
    "ls_points[1::2]"
   ]
  },
  {
   "cell_type": "code",
   "execution_count": 174,
   "id": "2116db64",
   "metadata": {},
   "outputs": [
    {
     "data": {
      "text/plain": [
       "390"
      ]
     },
     "execution_count": 174,
     "metadata": {},
     "output_type": "execute_result"
    }
   ],
   "source": [
    "ls_edges = [(i, i+1) for i in range(0,len(ls_points),2) ][::step]\n",
    "len(ls_edges)"
   ]
  },
  {
   "cell_type": "code",
   "execution_count": 175,
   "id": "44f4f602",
   "metadata": {},
   "outputs": [],
   "source": [
    "\n",
    "line_set = o3d.geometry.LineSet(\n",
    "    points=o3d.utility.Vector3dVector(ls_points),\n",
    "    lines=o3d.utility.Vector2iVector(ls_edges),\n",
    ")\n",
    "line_set.colors = o3d.utility.Vector3dVector([(1,0,0)]*len(ls_edges))"
   ]
  },
  {
   "cell_type": "code",
   "execution_count": 182,
   "id": "b5006687",
   "metadata": {},
   "outputs": [
    {
     "data": {
      "text/plain": [
       "TriangleMesh with 4902 points and 9800 triangles."
      ]
     },
     "execution_count": 182,
     "metadata": {},
     "output_type": "execute_result"
    }
   ],
   "source": [
    "mesh_sphere = o3d.geometry.TriangleMesh.create_sphere(radius=1.0, resolution=50)\n",
    "mesh_sphere.compute_vertex_normals()\n",
    "mesh_sphere.paint_uniform_color([0.1, 0.1, 0.7])"
   ]
  },
  {
   "cell_type": "code",
   "execution_count": 198,
   "id": "7a2ac7fa",
   "metadata": {},
   "outputs": [
    {
     "data": {
      "text/plain": [
       "TriangleMesh with 762 points and 1520 triangles."
      ]
     },
     "execution_count": 198,
     "metadata": {},
     "output_type": "execute_result"
    }
   ],
   "source": [
    "# light point \n",
    "light_sphere = o3d.geometry.TriangleMesh.create_sphere(radius=0.05)\n",
    "light_sphere.compute_vertex_normals()\n",
    "light_sphere.paint_uniform_color([0.5,0.5,0])\n",
    "light_sphere.translate([0,0,2])"
   ]
  },
  {
   "cell_type": "code",
   "execution_count": 222,
   "id": "57cbb230",
   "metadata": {},
   "outputs": [],
   "source": [
    "axis_set =  o3d.geometry.LineSet(\n",
    "    points=o3d.utility.Vector3dVector(np.array([[v*(a:=10),-v*a] for v in np.eye(3)]).reshape(-1,3)),\n",
    "    lines=o3d.utility.Vector2iVector([(i, i+1) for i in range(0,6,2) ]),\n",
    ")\n",
    "axis_set.colors = o3d.utility.Vector3dVector(np.eye(3))"
   ]
  },
  {
   "cell_type": "code",
   "execution_count": 223,
   "id": "3cba2ab3",
   "metadata": {},
   "outputs": [],
   "source": [
    "o3d.visualization.draw_geometries([downpcd,mesh_sphere, line_set, light_sphere, axis_set])"
   ]
  },
  {
   "cell_type": "code",
   "execution_count": 220,
   "id": "3466ef47",
   "metadata": {},
   "outputs": [],
   "source": []
  },
  {
   "cell_type": "code",
   "execution_count": 86,
   "id": "77d7d51d",
   "metadata": {},
   "outputs": [
    {
     "data": {
      "text/plain": [
       "[0, 4]"
      ]
     },
     "execution_count": 86,
     "metadata": {},
     "output_type": "execute_result"
    }
   ],
   "source": [
    "list(range(8))[::4]"
   ]
  },
  {
   "cell_type": "code",
   "execution_count": 212,
   "id": "835f3356",
   "metadata": {},
   "outputs": [
    {
     "data": {
      "text/plain": [
       "array([[1, 0, 0],\n",
       "       [0, 1, 0],\n",
       "       [0, 0, 1]])"
      ]
     },
     "execution_count": 212,
     "metadata": {},
     "output_type": "execute_result"
    }
   ],
   "source": [
    "# make sphere point clou[d\n",
    "basis = np.array([[0]*3]*3)\n",
    "for i,b in enumerate(basis):\n",
    "    b[i] +=1\n",
    "basis"
   ]
  },
  {
   "cell_type": "code",
   "execution_count": 219,
   "id": "1d06ec7c",
   "metadata": {},
   "outputs": [
    {
     "data": {
      "text/plain": [
       "array([[ 10.,   0.,   0.],\n",
       "       [-10.,  -0.,  -0.],\n",
       "       [  0.,  10.,   0.],\n",
       "       [ -0., -10.,  -0.],\n",
       "       [  0.,   0.,  10.],\n",
       "       [ -0.,  -0., -10.]])"
      ]
     },
     "execution_count": 219,
     "metadata": {},
     "output_type": "execute_result"
    }
   ],
   "source": []
  },
  {
   "cell_type": "code",
   "execution_count": null,
   "id": "6c169aa0",
   "metadata": {},
   "outputs": [],
   "source": []
  }
 ],
 "metadata": {
  "kernelspec": {
   "display_name": "Python 3 (ipykernel)",
   "language": "python",
   "name": "python3"
  },
  "language_info": {
   "codemirror_mode": {
    "name": "ipython",
    "version": 3
   },
   "file_extension": ".py",
   "mimetype": "text/x-python",
   "name": "python",
   "nbconvert_exporter": "python",
   "pygments_lexer": "ipython3",
   "version": "3.10.12"
  }
 },
 "nbformat": 4,
 "nbformat_minor": 5
}
