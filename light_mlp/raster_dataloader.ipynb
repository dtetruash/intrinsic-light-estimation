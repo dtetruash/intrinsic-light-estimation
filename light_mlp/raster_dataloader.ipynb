{
 "cells": [
  {
   "cell_type": "markdown",
   "id": "f46c0b7e",
   "metadata": {},
   "source": [
    "### Test the raster image dataloader"
   ]
  },
  {
   "cell_type": "code",
   "execution_count": 1,
   "id": "9a70e701",
   "metadata": {},
   "outputs": [
    {
     "name": "stdout",
     "output_type": "stream",
     "text": [
      "Jupyter environment detected. Enabling Open3D WebVisualizer.\n",
      "[Open3D INFO] WebRTC GUI backend enabled.\n",
      "[Open3D INFO] WebRTCWindowSystem: HTTP handshake server disabled.\n"
     ]
    }
   ],
   "source": [
    "import torch\n",
    "from torch.utils.data import Dataset, DataLoader \n",
    "import numpy as np\n",
    "import raster_relight as rr\n",
    "import raster_dataloader as rd\n",
    "import open3d as o3d\n",
    "from matplotlib import pyplot as plt"
   ]
  },
  {
   "cell_type": "code",
   "execution_count": 2,
   "id": "94b18cd1",
   "metadata": {
    "scrolled": true
   },
   "outputs": [
    {
     "name": "stdout",
     "output_type": "stream",
     "text": [
      "loading combined from /home/dtetruash/Thesis/datasets/nerf-blender/nerf_synthetic/intrinsic_tester_sphere/r_000_combined.png\n",
      "loading normal from /home/dtetruash/Thesis/datasets/nerf-blender/nerf_synthetic/intrinsic_tester_sphere/r_000_normal.png\n",
      "loading albedo from /home/dtetruash/Thesis/datasets/nerf-blender/nerf_synthetic/intrinsic_tester_sphere/r_000_albedo.png\n",
      "loading depth from /home/dtetruash/Thesis/datasets/nerf-blender/nerf_synthetic/intrinsic_tester_sphere/r_000_depth.png\n",
      "Got depth_alpha from 0 to 161 with mean of 63.2880296875. The datatype is uint8\n",
      "Bit depth used for depth remapping was 8 and a max values of 255\n",
      "Ater remapping got depth_remapped from 94 to 255 with mean of 191.7119703125. The datatype is uint8\n",
      "After normalizing got depth_normalized from 0.3686274509803922 to 1.0 with mean of 0.7518116482843138. The datatype is float64\n",
      "Occumpancy mask of shape (800, 800), and with 263345 occupied pixels.\n",
      "Normal pixels range from 0 to 65535\n",
      "Normals pixels shape: (263345, 3)\n",
      "world_normals_shape after posing: (3, 263345)\n",
      "world_normals shape after reshaping to camera_normals.shape: (263345, 3)\n",
      "Posed_points shape in porject func: (263345, 3)\n",
      "Loaded /home/dtetruash/Thesis/datasets/nerf-blender/nerf_synthetic/intrinsic_tester_sphere/lights_intrinsic_tester_sphere.json. Number of lights is 9\n",
      "in compute_raster: posed_points - (263345, 3), light_location: (3,)\n",
      "shapes: l_v:(263345, 3), l_l : (3,), p_p : (263345, 3)\n"
     ]
    }
   ],
   "source": [
    "ds = rd.RasterDataset()"
   ]
  },
  {
   "cell_type": "code",
   "execution_count": 3,
   "id": "d7a724fb",
   "metadata": {},
   "outputs": [
    {
     "data": {
      "text/plain": [
       "263345"
      ]
     },
     "execution_count": 3,
     "metadata": {},
     "output_type": "execute_result"
    }
   ],
   "source": [
    "dataset_list = list(ds)\n",
    "len(dataset_list)"
   ]
  },
  {
   "cell_type": "code",
   "execution_count": 4,
   "id": "a7169fed",
   "metadata": {},
   "outputs": [],
   "source": [
    "normal = [sample[0] for sample in dataset_list]\n",
    "albedo = [sample[1] for sample in dataset_list]\n",
    "raster = [sample[2] for sample in dataset_list]\n"
   ]
  },
  {
   "cell_type": "code",
   "execution_count": 5,
   "id": "459b9aef",
   "metadata": {},
   "outputs": [
    {
     "name": "stdout",
     "output_type": "stream",
     "text": [
      "skipping\n"
     ]
    }
   ],
   "source": [
    "%%script echo skipping\n",
    "albedo_img = np.ones((800,800,3)) * 255\n",
    "albedo_img[ds._occupancy_mask] = np.array(albedo)\n",
    "plt.imshow(albedo_img.astype(np.uint8))"
   ]
  },
  {
   "cell_type": "code",
   "execution_count": 6,
   "id": "5c39b6ea",
   "metadata": {},
   "outputs": [
    {
     "name": "stdout",
     "output_type": "stream",
     "text": [
      "skipping\n"
     ]
    }
   ],
   "source": [
    "%%script echo skipping\n",
    "raster_img = np.ones((800,800,3)) * 255\n",
    "raster_img[ds._occupancy_mask] = np.array(raster)\n",
    "plt.imshow(raster_img.astype(np.uint8))"
   ]
  },
  {
   "cell_type": "code",
   "execution_count": 7,
   "id": "227d2b7f",
   "metadata": {},
   "outputs": [
    {
     "name": "stdout",
     "output_type": "stream",
     "text": [
      "skipping\n"
     ]
    }
   ],
   "source": [
    "%%script echo skipping\n",
    "normal_img = np.ones((800,800,3)) \n",
    "normal_img[ds._occupancy_mask] = (np.array(normal) * 0.5 + 0.5) \n",
    "plt.imshow(normal_img)"
   ]
  },
  {
   "cell_type": "markdown",
   "id": "8b45adc8",
   "metadata": {},
   "source": [
    "### Make sure the normals and light vectors are well aligned"
   ]
  },
  {
   "cell_type": "code",
   "execution_count": 8,
   "id": "ed4ef0e9",
   "metadata": {},
   "outputs": [],
   "source": [
    "pcd = ds._pcd"
   ]
  },
  {
   "cell_type": "code",
   "execution_count": 9,
   "id": "84a1c399",
   "metadata": {},
   "outputs": [],
   "source": [
    "downpcd = pcd.voxel_down_sample(voxel_size=0.2)"
   ]
  },
  {
   "cell_type": "code",
   "execution_count": 10,
   "id": "6bc44a79",
   "metadata": {},
   "outputs": [],
   "source": [
    "o3d.visualization.draw_geometries([downpcd])"
   ]
  },
  {
   "cell_type": "code",
   "execution_count": 11,
   "id": "8fd50da5",
   "metadata": {},
   "outputs": [],
   "source": [
    "# make line set to the light point."
   ]
  },
  {
   "cell_type": "code",
   "execution_count": 12,
   "id": "7b245b49",
   "metadata": {},
   "outputs": [
    {
     "data": {
      "text/plain": [
       "205"
      ]
     },
     "execution_count": 12,
     "metadata": {},
     "output_type": "execute_result"
    }
   ],
   "source": [
    "downpcd_points = np.asarray(downpcd.points)\n",
    "len(downpcd_points)"
   ]
  },
  {
   "cell_type": "code",
   "execution_count": 13,
   "id": "46b07420",
   "metadata": {},
   "outputs": [
    {
     "data": {
      "text/plain": [
       "(263345, 3)"
      ]
     },
     "execution_count": 13,
     "metadata": {},
     "output_type": "execute_result"
    }
   ],
   "source": [
    "pcd_points = np.asarray(ds._pcd.points)\n",
    "pcd_points.shape"
   ]
  },
  {
   "cell_type": "code",
   "execution_count": 14,
   "id": "c8dcb672",
   "metadata": {},
   "outputs": [],
   "source": [
    "step = 35"
   ]
  },
  {
   "cell_type": "code",
   "execution_count": 15,
   "id": "61aa3722",
   "metadata": {},
   "outputs": [
    {
     "data": {
      "text/plain": [
       "(15050, 3)"
      ]
     },
     "execution_count": 15,
     "metadata": {},
     "output_type": "execute_result"
    }
   ],
   "source": [
    "ls_points_light = np.array([(i ,i + l*n) for (i,l,n) in zip(pcd_points, ds._light_vecs, ds._light_vecs_norms)][::step]).reshape(-1,3)\n",
    "ls_points_light.shape"
   ]
  },
  {
   "cell_type": "code",
   "execution_count": 16,
   "id": "04b73856",
   "metadata": {},
   "outputs": [
    {
     "data": {
      "text/plain": [
       "215"
      ]
     },
     "execution_count": 16,
     "metadata": {},
     "output_type": "execute_result"
    }
   ],
   "source": [
    "ls_edges_light = [(i, i+1) for i in range(0,len(ls_points_light),2) ][::step]\n",
    "len(ls_edges_light)"
   ]
  },
  {
   "cell_type": "code",
   "execution_count": 17,
   "id": "9bc6fd40",
   "metadata": {},
   "outputs": [],
   "source": [
    "\n",
    "line_set_light = o3d.geometry.LineSet(\n",
    "    points=o3d.utility.Vector3dVector(ls_points_light),\n",
    "    lines=o3d.utility.Vector2iVector(ls_edges_light),\n",
    ")\n",
    "line_set_light.colors = o3d.utility.Vector3dVector([(1,0,0)]*len(ls_edges_light))"
   ]
  },
  {
   "cell_type": "code",
   "execution_count": 18,
   "id": "5145dbcf",
   "metadata": {},
   "outputs": [
    {
     "data": {
      "text/plain": [
       "(15050, 3)"
      ]
     },
     "execution_count": 18,
     "metadata": {},
     "output_type": "execute_result"
    }
   ],
   "source": [
    "ls_points_cam = np.array([(i ,i + l*n) for (i,l,n) in zip(pcd_points, ds._cam_vecs, ds._cam_vec_norms)][::step]).reshape(-1,3)\n",
    "ls_points_cam.shape\n"
   ]
  },
  {
   "cell_type": "code",
   "execution_count": 19,
   "id": "4adf71dd",
   "metadata": {},
   "outputs": [
    {
     "data": {
      "text/plain": [
       "215"
      ]
     },
     "execution_count": 19,
     "metadata": {},
     "output_type": "execute_result"
    }
   ],
   "source": [
    "ls_edges_cam = [(i, i+1) for i in range(0,len(ls_points_cam),2) ][::step]\n",
    "len(ls_edges_cam)"
   ]
  },
  {
   "cell_type": "code",
   "execution_count": 20,
   "id": "c06f5932",
   "metadata": {},
   "outputs": [],
   "source": [
    "\n",
    "line_set_cam = o3d.geometry.LineSet(\n",
    "    points=o3d.utility.Vector3dVector(ls_points_cam),\n",
    "    lines=o3d.utility.Vector2iVector(ls_edges_cam),\n",
    ")\n",
    "line_set_cam.colors = o3d.utility.Vector3dVector([(0,1,0)]*len(ls_edges_cam))"
   ]
  },
  {
   "cell_type": "code",
   "execution_count": 21,
   "id": "b96329e0",
   "metadata": {},
   "outputs": [
    {
     "data": {
      "text/plain": [
       "TriangleMesh with 182 points and 360 triangles."
      ]
     },
     "execution_count": 21,
     "metadata": {},
     "output_type": "execute_result"
    }
   ],
   "source": [
    "mesh_sphere = o3d.geometry.TriangleMesh.create_sphere(radius=1.0, resolution=10)\n",
    "mesh_sphere.compute_vertex_normals()\n",
    "mesh_sphere.paint_uniform_color([0.1, 0.1, 0.7])"
   ]
  },
  {
   "cell_type": "code",
   "execution_count": 22,
   "id": "5368324d",
   "metadata": {},
   "outputs": [],
   "source": [
    "sphere_line_set = o3d.geometry.LineSet.create_from_triangle_mesh(mesh_sphere)\n"
   ]
  },
  {
   "cell_type": "code",
   "execution_count": 23,
   "id": "233eb830",
   "metadata": {},
   "outputs": [],
   "source": [
    "sphere_line_set.colors = o3d.utility.Vector3dVector(np.array([[0,0,0]]*len(sphere_line_set.lines)))"
   ]
  },
  {
   "cell_type": "code",
   "execution_count": 24,
   "id": "b3f4c9f9",
   "metadata": {},
   "outputs": [
    {
     "data": {
      "text/plain": [
       "TriangleMesh with 762 points and 1520 triangles."
      ]
     },
     "execution_count": 24,
     "metadata": {},
     "output_type": "execute_result"
    }
   ],
   "source": [
    "# light point \n",
    "light_sphere = o3d.geometry.TriangleMesh.create_sphere(radius=0.05)\n",
    "light_sphere.compute_vertex_normals()\n",
    "light_sphere.paint_uniform_color([0.5,0.5,0])\n",
    "light_sphere.translate([0,0,2])"
   ]
  },
  {
   "cell_type": "code",
   "execution_count": 31,
   "id": "f7046a7a",
   "metadata": {},
   "outputs": [
    {
     "data": {
      "text/plain": [
       "TriangleMesh with 762 points and 1520 triangles."
      ]
     },
     "execution_count": 31,
     "metadata": {},
     "output_type": "execute_result"
    }
   ],
   "source": [
    "cam_sphere = o3d.geometry.TriangleMesh.create_sphere(radius=0.05)\n",
    "cam_sphere.compute_vertex_normals()\n",
    "cam_sphere.paint_uniform_color([0.1,0.8,0.1])\n",
    "cam_sphere.translate(ds._camera_center)"
   ]
  },
  {
   "cell_type": "code",
   "execution_count": 25,
   "id": "e89d1eeb",
   "metadata": {},
   "outputs": [],
   "source": [
    "axis_set =  o3d.geometry.LineSet(\n",
    "    points=o3d.utility.Vector3dVector(np.array([[v*(a:=10),-v*a] for v in np.eye(3)]).reshape(-1,3)),\n",
    "    lines=o3d.utility.Vector2iVector([(i, i+1) for i in range(0,6,2) ]),\n",
    ")\n",
    "axis_set.colors = o3d.utility.Vector3dVector(np.eye(3))"
   ]
  },
  {
   "cell_type": "code",
   "execution_count": null,
   "id": "b91fc09c",
   "metadata": {},
   "outputs": [],
   "source": [
    "o3d.visualization.draw_geometries([downpcd,sphere_line_set, line_set_light,line_set_cam, light_sphere,cam_sphere, axis_set])"
   ]
  },
  {
   "cell_type": "code",
   "execution_count": null,
   "id": "c3d48ffb",
   "metadata": {},
   "outputs": [],
   "source": []
  },
  {
   "cell_type": "code",
   "execution_count": 27,
   "id": "70d066e6",
   "metadata": {},
   "outputs": [
    {
     "data": {
      "text/plain": [
       "[0, 4]"
      ]
     },
     "execution_count": 27,
     "metadata": {},
     "output_type": "execute_result"
    }
   ],
   "source": [
    "list(range(8))[::4]"
   ]
  },
  {
   "cell_type": "code",
   "execution_count": 28,
   "id": "1e1bed7f",
   "metadata": {},
   "outputs": [
    {
     "data": {
      "text/plain": [
       "array([[1, 0, 0],\n",
       "       [0, 1, 0],\n",
       "       [0, 0, 1]])"
      ]
     },
     "execution_count": 28,
     "metadata": {},
     "output_type": "execute_result"
    }
   ],
   "source": [
    "# make sphere point clou[d\n",
    "basis = np.array([[0]*3]*3)\n",
    "for i,b in enumerate(basis):\n",
    "    b[i] +=1\n",
    "basis"
   ]
  },
  {
   "cell_type": "code",
   "execution_count": null,
   "id": "51e8cf69",
   "metadata": {},
   "outputs": [],
   "source": []
  },
  {
   "cell_type": "code",
   "execution_count": null,
   "id": "6cdbc5fa",
   "metadata": {},
   "outputs": [],
   "source": []
  }
 ],
 "metadata": {
  "kernelspec": {
   "display_name": "Python 3 (ipykernel)",
   "language": "python",
   "name": "python3"
  },
  "language_info": {
   "codemirror_mode": {
    "name": "ipython",
    "version": 3
   },
   "file_extension": ".py",
   "mimetype": "text/x-python",
   "name": "python",
   "nbconvert_exporter": "python",
   "pygments_lexer": "ipython3",
   "version": "3.10.12"
  }
 },
 "nbformat": 4,
 "nbformat_minor": 5
}
